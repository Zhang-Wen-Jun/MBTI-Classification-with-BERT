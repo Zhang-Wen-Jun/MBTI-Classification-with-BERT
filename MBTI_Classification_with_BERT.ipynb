{
 "cells": [
  {
   "cell_type": "markdown",
   "id": "38c50725",
   "metadata": {},
   "source": [
    "# **Libraries**   "
   ]
  },
  {
   "cell_type": "code",
   "execution_count": 1,
   "id": "0e50bb42",
   "metadata": {},
   "outputs": [],
   "source": [
    "import pandas as pd\n",
    "import numpy as np\n",
    "import seaborn as sns\n",
    "import matplotlib.pyplot as plt\n",
    "from sklearn.model_selection import train_test_split\n",
    "import plotly.express as px\n",
    "from sklearn import preprocessing\n",
    "from torch.utils.data import Dataset, DataLoader\n",
    "\n",
    "import re\n",
    "import os\n",
    "\n",
    "# import nltk\n",
    "# nltk.download('stopwords')\n",
    "\n",
    "from nltk.corpus import stopwords\n",
    "from nltk.tokenize import word_tokenize\n",
    "import torch\n",
    "import torch.nn as nn\n",
    "\n",
    "import pytorch_lightning as pl\n",
    "from pytorch_lightning import Trainer\n",
    "from pytorch_lightning.loggers import TensorBoardLogger\n",
    "from pytorch_lightning import Trainer\n",
    "from torchmetrics.functional import accuracy\n",
    "\n",
    "from pytorch_lightning.callbacks import ModelCheckpoint, EarlyStopping\n",
    "\n",
    "from tqdm import tqdm"
   ]
  },
  {
   "cell_type": "markdown",
   "id": "cf2615c2",
   "metadata": {},
   "source": [
    "# **Pre-processing - Training Dataset**   "
   ]
  },
  {
   "cell_type": "code",
   "execution_count": 2,
   "id": "6ea851e4",
   "metadata": {},
   "outputs": [
    {
     "data": {
      "text/html": [
       "<div>\n",
       "<style scoped>\n",
       "    .dataframe tbody tr th:only-of-type {\n",
       "        vertical-align: middle;\n",
       "    }\n",
       "\n",
       "    .dataframe tbody tr th {\n",
       "        vertical-align: top;\n",
       "    }\n",
       "\n",
       "    .dataframe thead th {\n",
       "        text-align: right;\n",
       "    }\n",
       "</style>\n",
       "<table border=\"1\" class=\"dataframe\">\n",
       "  <thead>\n",
       "    <tr style=\"text-align: right;\">\n",
       "      <th></th>\n",
       "      <th>type</th>\n",
       "      <th>posts</th>\n",
       "    </tr>\n",
       "  </thead>\n",
       "  <tbody>\n",
       "    <tr>\n",
       "      <th>0</th>\n",
       "      <td>INFJ</td>\n",
       "      <td>'http://www.youtube.com/watch?v=qsXHcwe3krw|||...</td>\n",
       "    </tr>\n",
       "    <tr>\n",
       "      <th>1</th>\n",
       "      <td>ENTP</td>\n",
       "      <td>'I'm finding the lack of me in these posts ver...</td>\n",
       "    </tr>\n",
       "    <tr>\n",
       "      <th>2</th>\n",
       "      <td>INTP</td>\n",
       "      <td>'Good one  _____   https://www.youtube.com/wat...</td>\n",
       "    </tr>\n",
       "    <tr>\n",
       "      <th>3</th>\n",
       "      <td>INTJ</td>\n",
       "      <td>'Dear INTP,   I enjoyed our conversation the o...</td>\n",
       "    </tr>\n",
       "    <tr>\n",
       "      <th>4</th>\n",
       "      <td>ENTJ</td>\n",
       "      <td>'You're fired.|||That's another silly misconce...</td>\n",
       "    </tr>\n",
       "  </tbody>\n",
       "</table>\n",
       "</div>"
      ],
      "text/plain": [
       "   type                                              posts\n",
       "0  INFJ  'http://www.youtube.com/watch?v=qsXHcwe3krw|||...\n",
       "1  ENTP  'I'm finding the lack of me in these posts ver...\n",
       "2  INTP  'Good one  _____   https://www.youtube.com/wat...\n",
       "3  INTJ  'Dear INTP,   I enjoyed our conversation the o...\n",
       "4  ENTJ  'You're fired.|||That's another silly misconce..."
      ]
     },
     "execution_count": 2,
     "metadata": {},
     "output_type": "execute_result"
    }
   ],
   "source": [
    "train_data = pd.read_csv('mbti_1.csv')\n",
    "train_data.head()"
   ]
  },
  {
   "cell_type": "code",
   "execution_count": 3,
   "id": "69bf8398",
   "metadata": {
    "scrolled": true
   },
   "outputs": [
    {
     "data": {
      "text/plain": [
       "\"'http://www.youtube.com/watch?v=qsXHcwe3krw|||http://41.media.tumblr.com/tumblr_lfouy03PMA1qa1rooo1_500.jpg|||enfp and intj moments  https://www.youtube.com/watch?v=iz7lE1g4XM4  sportscenter not top ten plays  https://www.youtube.com/watch?v=uCdfze1etec  pranks|||What has been the most life-changing experience in your life?|||http://www.youtube.com/watch?v=vXZeYwwRDw8   http://www.youtube.com/watch?v=u8ejam5DP3E  On repeat for most of today.|||May the PerC Experience immerse you.|||The last thing my INFJ friend posted on his facebook before committing suicide the next day. Rest in peace~   http://vimeo.com/22842206|||Hello ENFJ7. Sorry to hear of your distress. It's only natural for a relationship to not be perfection all the time in every moment of existence. Try to figure the hard times as times of growth, as...|||84389  84390  http://wallpaperpassion.com/upload/23700/friendship-boy-and-girl-wallpaper.jpg  http://assets.dornob.com/wp-content/uploads/2010/04/round-home-design.jpg ...|||Welcome and stuff.|||http://playeressence.com/wp-content/uploads/2013/08/RED-red-the-pokemon-master-32560474-450-338.jpg  Game. Set. Match.|||Prozac, wellbrutin, at least thirty minutes of moving your legs (and I don't mean moving them while sitting in your same desk chair), weed in moderation (maybe try edibles as a healthier alternative...|||Basically come up with three items you've determined that each type (or whichever types you want to do) would more than likely use, given each types' cognitive functions and whatnot, when left by...|||All things in moderation.  Sims is indeed a video game, and a good one at that. Note: a good one at that is somewhat subjective in that I am not completely promoting the death of any given Sim...|||Dear ENFP:  What were your favorite video games growing up and what are your now, current favorite video games? :cool:|||https://www.youtube.com/watch?v=QyPqT8umzmY|||It appears to be too late. :sad:|||There's someone out there for everyone.|||Wait... I thought confidence was a good thing.|||I just cherish the time of solitude b/c i revel within my inner world more whereas most other time i'd be workin... just enjoy the me time while you can. Don't worry, people will always be around to...|||Yo entp ladies... if you're into a complimentary personality,well, hey.|||... when your main social outlet is xbox live conversations and even then you verbally fatigue quickly.|||http://www.youtube.com/watch?v=gDhy7rdfm14  I really dig the part from 1:46 to 2:50|||http://www.youtube.com/watch?v=msqXffgh7b8|||Banned because this thread requires it of me.|||Get high in backyard, roast and eat marshmellows in backyard while conversing over something intellectual, followed by massages and kisses.|||http://www.youtube.com/watch?v=Mw7eoU3BMbE|||http://www.youtube.com/watch?v=4V2uYORhQOk|||http://www.youtube.com/watch?v=SlVmgFQQ0TI|||Banned for too many b's in that sentence. How could you! Think of the B!|||Banned for watching movies in the corner with the dunces.|||Banned because Health class clearly taught you nothing about peer pressure.|||Banned for a whole host of reasons!|||http://www.youtube.com/watch?v=IRcrv41hgz4|||1) Two baby deer on left and right munching on a beetle in the middle.  2) Using their own blood, two cavemen diary today's latest happenings on their designated cave diary wall.  3) I see it as...|||a pokemon world  an infj society  everyone becomes an optimist|||49142|||http://www.youtube.com/watch?v=ZRCEq_JFeFM|||http://discovermagazine.com/2012/jul-aug/20-things-you-didnt-know-about-deserts/desert.jpg|||http://oyster.ignimgs.com/mediawiki/apis.ign.com/pokemon-silver-version/d/dd/Ditto.gif|||http://www.serebii.net/potw-dp/Scizor.jpg|||Not all artists are artists because they draw. It's the idea that counts in forming something of your own... like a signature.|||Welcome to the robot ranks, person who downed my self-esteem cuz I'm not an avid signature artist like herself. :proud:|||Banned for taking all the room under my bed. Ya gotta learn to share with the roaches.|||http://www.youtube.com/watch?v=w8IgImn57aQ|||Banned for being too much of a thundering, grumbling kind of storm... yep.|||Ahh... old high school music I haven't heard in ages.   http://www.youtube.com/watch?v=dcCRUPCdB1w|||I failed a public speaking class a few years ago and I've sort of learned what I could do better were I to be in that position again. A big part of my failure was just overloading myself with too...|||I like this person's mentality. He's a confirmed INTJ by the way. http://www.youtube.com/watch?v=hGKLI-GEc6M|||Move to the Denver area and start a new life for myself.'\""
      ]
     },
     "execution_count": 3,
     "metadata": {},
     "output_type": "execute_result"
    }
   ],
   "source": [
    "train_data.posts[0]"
   ]
  },
  {
   "cell_type": "code",
   "execution_count": 4,
   "id": "ff7d7e7b",
   "metadata": {},
   "outputs": [],
   "source": [
    "stop_words = stopwords.words('english')"
   ]
  },
  {
   "cell_type": "code",
   "execution_count": 5,
   "id": "aee8daff",
   "metadata": {},
   "outputs": [],
   "source": [
    "# function to clean the word of any punctuation or special characters\n",
    "def cleanSentence(sentence):\n",
    "    # sentence lower\n",
    "    sentence = sentence.lower()\n",
    "    # remove url\n",
    "    cleaned = re.sub('http[s]?://(?:[a-zA-Z]|[0-9]|[$-_@.&+]|(?:%[0-9a-fA-F][0-9a-fA-F]))+',' ',sentence)\n",
    "    # remove other symbols\n",
    "    cleaned = re.sub('[^0-9a-z]',' ',cleaned)\n",
    "    # remove spaces > 1\n",
    "    cleaned = re.sub(\" +\", \" \", cleaned)\n",
    "    # remove blank at the begining and end\n",
    "    cleaned = cleaned.strip()\n",
    "    # remove stopwords\n",
    "    cleaned = \" \".join([w for w in cleaned.split(' ') if w not in stop_words])\n",
    "    return cleaned"
   ]
  },
  {
   "cell_type": "code",
   "execution_count": 6,
   "id": "e4f62627",
   "metadata": {},
   "outputs": [
    {
     "data": {
      "text/plain": [
       "'enfp intj moments sportscenter top ten plays pranks life changing experience life repeat today may perc experience immerse last thing infj friend posted facebook committing suicide next day rest peace hello enfj7 sorry hear distress natural relationship perfection time every moment existence try figure hard times times growth 84389 84390 welcome stuff game set match prozac wellbrutin least thirty minutes moving legs mean moving sitting desk chair weed moderation maybe try edibles healthier alternative basically come three items determined type whichever types want would likely use given types cognitive functions whatnot left things moderation sims indeed video game good one note good one somewhat subjective completely promoting death given sim dear enfp favorite video games growing current favorite video games cool appears late sad someone everyone wait thought confidence good thing cherish time solitude b c revel within inner world whereas time workin enjoy time worry people always around yo entp ladies complimentary personality well hey main social outlet xbox live conversations even verbally fatigue quickly really dig part 1 46 2 50 banned thread requires get high backyard roast eat marshmellows backyard conversing something intellectual followed massages kisses banned many b sentence could think b banned watching movies corner dunces banned health class clearly taught nothing peer pressure banned whole host reasons 1 two baby deer left right munching beetle middle 2 using blood two cavemen diary today latest happenings designated cave diary wall 3 see pokemon world infj society everyone becomes optimist 49142 artists artists draw idea counts forming something like signature welcome robot ranks person downed self esteem cuz avid signature artist like proud banned taking room bed ya gotta learn share roaches banned much thundering grumbling kind storm yep ahh old high school music heard ages failed public speaking class years ago sort learned could better position big part failure overloading like person mentality confirmed intj way move denver area start new life'"
      ]
     },
     "execution_count": 6,
     "metadata": {},
     "output_type": "execute_result"
    }
   ],
   "source": [
    "cleanSentence(train_data.posts[0])"
   ]
  },
  {
   "cell_type": "code",
   "execution_count": 7,
   "id": "1bacd42b",
   "metadata": {},
   "outputs": [
    {
     "data": {
      "text/html": [
       "<div>\n",
       "<style scoped>\n",
       "    .dataframe tbody tr th:only-of-type {\n",
       "        vertical-align: middle;\n",
       "    }\n",
       "\n",
       "    .dataframe tbody tr th {\n",
       "        vertical-align: top;\n",
       "    }\n",
       "\n",
       "    .dataframe thead th {\n",
       "        text-align: right;\n",
       "    }\n",
       "</style>\n",
       "<table border=\"1\" class=\"dataframe\">\n",
       "  <thead>\n",
       "    <tr style=\"text-align: right;\">\n",
       "      <th></th>\n",
       "      <th>type</th>\n",
       "      <th>posts</th>\n",
       "    </tr>\n",
       "  </thead>\n",
       "  <tbody>\n",
       "    <tr>\n",
       "      <th>0</th>\n",
       "      <td>INFJ</td>\n",
       "      <td>enfp intj moments sportscenter top ten plays p...</td>\n",
       "    </tr>\n",
       "    <tr>\n",
       "      <th>1</th>\n",
       "      <td>ENTP</td>\n",
       "      <td>finding lack posts alarming sex boring positio...</td>\n",
       "    </tr>\n",
       "    <tr>\n",
       "      <th>2</th>\n",
       "      <td>INTP</td>\n",
       "      <td>good one course say know blessing curse absolu...</td>\n",
       "    </tr>\n",
       "    <tr>\n",
       "      <th>3</th>\n",
       "      <td>INTJ</td>\n",
       "      <td>dear intp enjoyed conversation day esoteric ga...</td>\n",
       "    </tr>\n",
       "    <tr>\n",
       "      <th>4</th>\n",
       "      <td>ENTJ</td>\n",
       "      <td>fired another silly misconception approaching ...</td>\n",
       "    </tr>\n",
       "  </tbody>\n",
       "</table>\n",
       "</div>"
      ],
      "text/plain": [
       "   type                                              posts\n",
       "0  INFJ  enfp intj moments sportscenter top ten plays p...\n",
       "1  ENTP  finding lack posts alarming sex boring positio...\n",
       "2  INTP  good one course say know blessing curse absolu...\n",
       "3  INTJ  dear intp enjoyed conversation day esoteric ga...\n",
       "4  ENTJ  fired another silly misconception approaching ..."
      ]
     },
     "execution_count": 7,
     "metadata": {},
     "output_type": "execute_result"
    }
   ],
   "source": [
    "train_data['posts'] = train_data['posts'].apply(cleanSentence)\n",
    "train_data.head()"
   ]
  },
  {
   "cell_type": "code",
   "execution_count": 8,
   "id": "43cfec00",
   "metadata": {},
   "outputs": [],
   "source": [
    "def length_sentence(sentence):\n",
    "    \n",
    "    length = len(sentence.split(\" \"))\n",
    "    \n",
    "    return length"
   ]
  },
  {
   "cell_type": "code",
   "execution_count": 9,
   "id": "51fb4236",
   "metadata": {},
   "outputs": [],
   "source": [
    "train_data['length'] = train_data['posts'].apply(length_sentence)"
   ]
  },
  {
   "cell_type": "code",
   "execution_count": 10,
   "id": "3684e830",
   "metadata": {},
   "outputs": [],
   "source": [
    "lb = preprocessing.LabelBinarizer()\n",
    "lb_result = lb.fit_transform([str(train_data.loc[i,'type']) for i in range(len(train_data))])\n",
    "columns=list(lb.classes_)\n",
    "train_data = pd.concat([train_data['type'], train_data['posts'], train_data['length'], pd.DataFrame(lb_result, columns=list(lb.classes_))],axis=1)"
   ]
  },
  {
   "cell_type": "code",
   "execution_count": 11,
   "id": "e2df70ce",
   "metadata": {},
   "outputs": [
    {
     "data": {
      "text/html": [
       "<div>\n",
       "<style scoped>\n",
       "    .dataframe tbody tr th:only-of-type {\n",
       "        vertical-align: middle;\n",
       "    }\n",
       "\n",
       "    .dataframe tbody tr th {\n",
       "        vertical-align: top;\n",
       "    }\n",
       "\n",
       "    .dataframe thead th {\n",
       "        text-align: right;\n",
       "    }\n",
       "</style>\n",
       "<table border=\"1\" class=\"dataframe\">\n",
       "  <thead>\n",
       "    <tr style=\"text-align: right;\">\n",
       "      <th></th>\n",
       "      <th>type</th>\n",
       "      <th>posts</th>\n",
       "      <th>length</th>\n",
       "      <th>ENFJ</th>\n",
       "      <th>ENFP</th>\n",
       "      <th>ENTJ</th>\n",
       "      <th>ENTP</th>\n",
       "      <th>ESFJ</th>\n",
       "      <th>ESFP</th>\n",
       "      <th>ESTJ</th>\n",
       "      <th>ESTP</th>\n",
       "      <th>INFJ</th>\n",
       "      <th>INFP</th>\n",
       "      <th>INTJ</th>\n",
       "      <th>INTP</th>\n",
       "      <th>ISFJ</th>\n",
       "      <th>ISFP</th>\n",
       "      <th>ISTJ</th>\n",
       "      <th>ISTP</th>\n",
       "    </tr>\n",
       "  </thead>\n",
       "  <tbody>\n",
       "    <tr>\n",
       "      <th>0</th>\n",
       "      <td>INFJ</td>\n",
       "      <td>enfp intj moments sportscenter top ten plays p...</td>\n",
       "      <td>317</td>\n",
       "      <td>0</td>\n",
       "      <td>0</td>\n",
       "      <td>0</td>\n",
       "      <td>0</td>\n",
       "      <td>0</td>\n",
       "      <td>0</td>\n",
       "      <td>0</td>\n",
       "      <td>0</td>\n",
       "      <td>1</td>\n",
       "      <td>0</td>\n",
       "      <td>0</td>\n",
       "      <td>0</td>\n",
       "      <td>0</td>\n",
       "      <td>0</td>\n",
       "      <td>0</td>\n",
       "      <td>0</td>\n",
       "    </tr>\n",
       "    <tr>\n",
       "      <th>1</th>\n",
       "      <td>ENTP</td>\n",
       "      <td>finding lack posts alarming sex boring positio...</td>\n",
       "      <td>572</td>\n",
       "      <td>0</td>\n",
       "      <td>0</td>\n",
       "      <td>0</td>\n",
       "      <td>1</td>\n",
       "      <td>0</td>\n",
       "      <td>0</td>\n",
       "      <td>0</td>\n",
       "      <td>0</td>\n",
       "      <td>0</td>\n",
       "      <td>0</td>\n",
       "      <td>0</td>\n",
       "      <td>0</td>\n",
       "      <td>0</td>\n",
       "      <td>0</td>\n",
       "      <td>0</td>\n",
       "      <td>0</td>\n",
       "    </tr>\n",
       "    <tr>\n",
       "      <th>2</th>\n",
       "      <td>INTP</td>\n",
       "      <td>good one course say know blessing curse absolu...</td>\n",
       "      <td>445</td>\n",
       "      <td>0</td>\n",
       "      <td>0</td>\n",
       "      <td>0</td>\n",
       "      <td>0</td>\n",
       "      <td>0</td>\n",
       "      <td>0</td>\n",
       "      <td>0</td>\n",
       "      <td>0</td>\n",
       "      <td>0</td>\n",
       "      <td>0</td>\n",
       "      <td>0</td>\n",
       "      <td>1</td>\n",
       "      <td>0</td>\n",
       "      <td>0</td>\n",
       "      <td>0</td>\n",
       "      <td>0</td>\n",
       "    </tr>\n",
       "    <tr>\n",
       "      <th>3</th>\n",
       "      <td>INTJ</td>\n",
       "      <td>dear intp enjoyed conversation day esoteric ga...</td>\n",
       "      <td>541</td>\n",
       "      <td>0</td>\n",
       "      <td>0</td>\n",
       "      <td>0</td>\n",
       "      <td>0</td>\n",
       "      <td>0</td>\n",
       "      <td>0</td>\n",
       "      <td>0</td>\n",
       "      <td>0</td>\n",
       "      <td>0</td>\n",
       "      <td>0</td>\n",
       "      <td>1</td>\n",
       "      <td>0</td>\n",
       "      <td>0</td>\n",
       "      <td>0</td>\n",
       "      <td>0</td>\n",
       "      <td>0</td>\n",
       "    </tr>\n",
       "    <tr>\n",
       "      <th>4</th>\n",
       "      <td>ENTJ</td>\n",
       "      <td>fired another silly misconception approaching ...</td>\n",
       "      <td>485</td>\n",
       "      <td>0</td>\n",
       "      <td>0</td>\n",
       "      <td>1</td>\n",
       "      <td>0</td>\n",
       "      <td>0</td>\n",
       "      <td>0</td>\n",
       "      <td>0</td>\n",
       "      <td>0</td>\n",
       "      <td>0</td>\n",
       "      <td>0</td>\n",
       "      <td>0</td>\n",
       "      <td>0</td>\n",
       "      <td>0</td>\n",
       "      <td>0</td>\n",
       "      <td>0</td>\n",
       "      <td>0</td>\n",
       "    </tr>\n",
       "  </tbody>\n",
       "</table>\n",
       "</div>"
      ],
      "text/plain": [
       "   type                                              posts  length  ENFJ  \\\n",
       "0  INFJ  enfp intj moments sportscenter top ten plays p...     317     0   \n",
       "1  ENTP  finding lack posts alarming sex boring positio...     572     0   \n",
       "2  INTP  good one course say know blessing curse absolu...     445     0   \n",
       "3  INTJ  dear intp enjoyed conversation day esoteric ga...     541     0   \n",
       "4  ENTJ  fired another silly misconception approaching ...     485     0   \n",
       "\n",
       "   ENFP  ENTJ  ENTP  ESFJ  ESFP  ESTJ  ESTP  INFJ  INFP  INTJ  INTP  ISFJ  \\\n",
       "0     0     0     0     0     0     0     0     1     0     0     0     0   \n",
       "1     0     0     1     0     0     0     0     0     0     0     0     0   \n",
       "2     0     0     0     0     0     0     0     0     0     0     1     0   \n",
       "3     0     0     0     0     0     0     0     0     0     1     0     0   \n",
       "4     0     1     0     0     0     0     0     0     0     0     0     0   \n",
       "\n",
       "   ISFP  ISTJ  ISTP  \n",
       "0     0     0     0  \n",
       "1     0     0     0  \n",
       "2     0     0     0  \n",
       "3     0     0     0  \n",
       "4     0     0     0  "
      ]
     },
     "execution_count": 11,
     "metadata": {},
     "output_type": "execute_result"
    }
   ],
   "source": [
    "train_data.head()"
   ]
  },
  {
   "cell_type": "markdown",
   "id": "670527a5",
   "metadata": {},
   "source": [
    "# **Pre-processing - Testing Dataset**   "
   ]
  },
  {
   "cell_type": "code",
   "execution_count": 12,
   "id": "03043ac1",
   "metadata": {
    "scrolled": true
   },
   "outputs": [
    {
     "data": {
      "text/plain": [
       "'I dont think anyone would be able to live 300 years i am not talking about the physical ability to do so but the mental fortitude unless you decide to live away from civilization it simply is not possible.|||Believe me you would not want to live for that long alone , unless there are others who can live for 300 years as well.|||You cannot enjoy something if you say something to yourself like ëI wanna enjoy this , i think this thing is gonna be funí believe me it doesnít work.|||I think this problem might be face by a lot of people.|||Firstly you should only study stuff that interests you . (obvious)|||Now there are subjects that you school forces you to take and you have no option but to some how score in those subjects. (What i used to think is subjects like history , geography and most of all Hindi are utterly useless , i wanna be a programmer why do i study these)|||But because i had no choice i thought lets give these a try. I started questioning things and when i dug deep into the events of history and and why each event took place or how it was of benefit to the benefactor. This questioning and finding out the reasons made me like history.|||My point is unless yaíll start questioning and researching further than whats necessary for exams you wont like that subject. All the subjects are beautiful , its what you choose to see. Basically give everything a real shot in life , everything works out. (my advice seems ironical as if you dont like the subject and i am telling you to research further but try it once )|||And also never study because there is exam or because you have to do an assignment or because someone is told you to or because Ö.|||But please ONLY STUDY BECAUSE YOU FEEL LIKE AND BECAUSE YOU WANT TO. Until you develop this sense of want to study it will be hard for you to like it. You must like it so much , that you know when people say after studying maths for 1 hour they took a break of 20 mins watching their favorite tv show(lets say friends)|||For you it should be like after 1 hour of x(that you dont like but HAVE to do) activity you take a break of 20 mins and you study , (like i like reading article on ai so i do that) you might like bio you will do that what i want to say is that is what it means to like something and only then you can truly enjoy it.|||If only something known as luck existed. (no offence to the readers or person who asked the question)|||Luck is a really interesting term , a really complex illusion. What i am saying is there is nothing known as luck that exists. Something simply doesnt just happen. It happens for a reason and with a reason.|||Some over here might claim that if it is not luck then what is it that cause (cause a child to be born in a rich family or a person to be saved by weirdest phenomenon and escape death.)|||What i want yaíll to know is firstly that being born rich cannot be called as ìluckyî like we cannot say to be born in a rich family is particularly a good thing there are many reasons to this (some people like to work their way up , Some want to experience the life troubles, well whatever the reasons might be) So firstly when we say something to be lucky we just CONSIDER that what happened was good. Same goes with the case of being saved from and awful accident. We still dont know the purpose of life or our existence and hence we dont know if living is a boon. this might be harsh for some but Reality is Harsh.|||What want yaíll to know is never feel bad if something good(in your perspective) happens to someone as It might as well not turn out to be good if you see the BIG picture.|||Besides its also a good thing to think this way as its boosts up your hopes , like you might consider that everything that has happened to you has made you what you are and even if you donít appreciate your conditions there is someone somewhere who would want to be in that.|||I think the all of us are 100% selfish. (no offence)|||The thing is even if we say we care about someone and then we help that person in reality we are just making ourselves happy by helping that someone.|||What i mean to say is even when people talk about sacrifices for others the reality is that sacrifice made that person or those persons happy which you cared for and thus those people being happy makes you happy.|||Everything comes down to you. You can try and deny it but you all know it.|||Now about those people who sacrifice their lives for others that is a peculiar case , and here too (this might be hard for some to believe) but they sacrifice life for someone they loved (they thought they loved) but the truth is in a situation where a person sacrifices his life for another the truth is that if he hadnt dont that he couldnít have survived without that person anyways and then there are always some who seek glory.|||I hope you get the point. Even when you say that people spend 30s and 40s the truth is making their kids life perfect gives them happiness. There are people without kids too cause for these making their kids life perfect doesnt give them as much happiness as focusing on their own goals might.|||Now i believe there might be many who thought that making kids life perfect might give them happiness but it turns out to be false and then they are stuck there fulfilling moral obligations. It all comes down to your resolves and how firm you are in you decisions.|||Isnít it fun to watch our disciples fight among themselves to prove that only one of us exists!|||I tend to believe that everything in this universe HAS TO HAVE A PURPOSE. Rather than thinking that the universe is a useless place and we have no purpose i would rather think we are just too stupid and dont know or cannot find the purpose. I have always wondered that what would be our reason to exist , once i thought of us (humans on earth) a crop created by aliens that takes this long to grow (i mean may be it would be not possible to create humans by a process other than evolution) so the aliens started the life on earth and are now just waiting for us to evolve , and so our purpose according to that is nothing but to serve as food or may be what ever they want , now then the question arises is what would their purpose be , And all such hypothetical situation lead to to scenario to go into infinity.|||After a lot of such crazy thought i came to 2 conclusions , 1 is pretty simple our purpose of life is find a purpose for our lives , and the weird thing is unlike other things once you find what your were looking for , the process ends there. The paradox is after you find your purpose of life did your succeed in finishing your purpose of life or did you just begun ?|||The 2nd one is what most people should agree is happiness. Now I think that this happiness should be confined to YOURís and ONLY your Happiness. Now the thing is some people gain happiness by giving people happiness.|||Let happiness be a quantifiable entity. We shall say that we start 0 oh hp . |||The zone where we dont feel happy or sad is 0 . Anything above 0 means you are happy and less than 0 is you are sad .|||Now one might think that if we suppose attain 100 hp , and do nothing after that we shall remain happy , the problem is that after a while our bar above which we remain moves up (simple adaptation) so now anything below 100hp is sad . This is the main problem with happiness , and So we need to keep doing stuff and increasing our hp . So maybe this counts as a purpose of life.|||Like when we are told about those saints and stuff who abandon society and live their life alone in discrete places where no one can disturb them. I believe the simple reason for this they have found happiness in doing nothing . Like someone finds happiness in making more money (there is a possibility that you might not make and hence be sad ) So these saint type people do something that has no opposite , like i know when they do nothing (i know its opposite is everything) and thats the very reason they go away from the civilization where they literally will have to do nothing . I also tend to think of these people as cowards who fear that they might loose at point.|||But the very point arises is what did you gain by gaining happiness. So again there is no end so Keep chasing the infinity its pointless but Keeps you busy(till the point you are alive) then after you are dead i guess nothing matters.|||But anyways thats the most easy thing to obtain happiness without sadness.|||But the very point arises is what did you gain by gaining happiness. So again there is no end so Keep chasing the infinity its pointless but Keeps you busy(till the point you are alive) then after you are dead i guess nothing matters.|||But if the life after death theory is true , and if by chance are memories are also transferred every time we are reborn. We all are fucked We are for infinity stuck chasing the infinity . (I wonder what happens when infinity chases infinity It will be fun to watch !) |||I think rather than worrying about these things we should just enjoy life . Because there will always something that we dont know that we dont know and thus we shall never know that. this is just 2 loops of not know , you can reach it , but Do it infinitely . Infinity is a bitch.|||Well To all beings good luck finding a purpose and to all those who know that it doesnt exist yaíll are fucked.'"
      ]
     },
     "execution_count": 12,
     "metadata": {},
     "output_type": "execute_result"
    }
   ],
   "source": [
    "# INTJ\n",
    "Divy_Bramhecha = open(\"Test_file/Divy_Bramhecha.txt\")\n",
    "Divy_Bramhecha = Divy_Bramhecha.readline()\n",
    "Divy_Bramhecha"
   ]
  },
  {
   "cell_type": "code",
   "execution_count": 13,
   "id": "ec1c9a81",
   "metadata": {
    "scrolled": true
   },
   "outputs": [
    {
     "data": {
      "text/plain": [
       "'dont think anyone would able live 300 years talking physical ability mental fortitude unless decide live away civilization simply possible believe would want live long alone unless others live 300 years well cannot enjoy something say something like wanna enjoy think thing gonna fun believe work think problem might face lot people firstly study stuff interests obvious subjects school forces take option score subjects used think subjects like history geography hindi utterly useless wanna programmer study choice thought lets give try started questioning things dug deep events history event took place benefit benefactor questioning finding reasons made like history point unless ya start questioning researching whats necessary exams wont like subject subjects beautiful choose see basically give everything real shot life everything works advice seems ironical dont like subject telling research try also never study exam assignment someone told please study feel like want develop sense want study hard like must like much know people say studying maths 1 hour took break 20 mins watching favorite tv show lets say friends like 1 hour x dont like activity take break 20 mins study like like reading article ai might like bio want say means like something truly enjoy something known luck existed offence readers person asked question luck really interesting term really complex illusion saying nothing known luck exists something simply doesnt happen happens reason reason might claim luck cause cause child born rich family person saved weirdest phenomenon escape death want ya know firstly born rich cannot called lucky like cannot say born rich family particularly good thing many reasons people like work way want experience life troubles well whatever reasons might firstly say something lucky consider happened good goes case saved awful accident still dont know purpose life existence hence dont know living boon might harsh reality harsh want ya know never feel bad something good perspective happens someone might well turn good see big picture besides also good thing think way boosts hopes like might consider everything happened made even appreciate conditions someone somewhere would want think us 100 selfish offence thing even say care someone help person reality making happy helping someone mean say even people talk sacrifices others reality sacrifice made person persons happy cared thus people happy makes happy everything comes try deny know people sacrifice lives others peculiar case might hard believe sacrifice life someone loved thought loved truth situation person sacrifices life another truth hadnt dont survived without person anyways always seek glory hope get point even say people spend 30s 40s truth making kids life perfect gives happiness people without kids cause making kids life perfect doesnt give much happiness focusing goals might believe might many thought making kids life perfect might give happiness turns false stuck fulfilling moral obligations comes resolves firm decisions fun watch disciples fight among prove one us exists tend believe everything universe purpose rather thinking universe useless place purpose would rather think stupid dont know cannot find purpose always wondered would reason exist thought us humans earth crop created aliens takes long grow mean may would possible create humans process evolution aliens started life earth waiting us evolve purpose according nothing serve food may ever want question arises would purpose hypothetical situation lead scenario go infinity lot crazy thought came 2 conclusions 1 pretty simple purpose life find purpose lives weird thing unlike things find looking process ends paradox find purpose life succeed finishing purpose life begun 2nd one people agree happiness think happiness confined happiness thing people gain happiness giving people happiness let happiness quantifiable entity shall say start 0 oh hp zone dont feel happy sad 0 anything 0 means happy less 0 sad one might think suppose attain 100 hp nothing shall remain happy problem bar remain moves simple adaptation anything 100hp sad main problem happiness need keep stuff increasing hp maybe counts purpose life like told saints stuff abandon society live life alone discrete places one disturb believe simple reason found happiness nothing like someone finds happiness making money possibility might make hence sad saint type people something opposite like know nothing know opposite everything thats reason go away civilization literally nothing also tend think people cowards fear might loose point point arises gain gaining happiness end keep chasing infinity pointless keeps busy till point alive dead guess nothing matters anyways thats easy thing obtain happiness without sadness point arises gain gaining happiness end keep chasing infinity pointless keeps busy till point alive dead guess nothing matters life death theory true chance memories also transferred every time reborn fucked infinity stuck chasing infinity wonder happens infinity chases infinity fun watch think rather worrying things enjoy life always something dont know dont know thus shall never know 2 loops know reach infinitely infinity bitch well beings good luck finding purpose know doesnt exist ya fucked'"
      ]
     },
     "execution_count": 13,
     "metadata": {},
     "output_type": "execute_result"
    }
   ],
   "source": [
    "cleanSentence(Divy_Bramhecha)"
   ]
  },
  {
   "cell_type": "code",
   "execution_count": 14,
   "id": "9c2e3d2b",
   "metadata": {
    "scrolled": true
   },
   "outputs": [
    {
     "data": {
      "text/plain": [
       "'These are words Britons should heed immediately.  Despite state surveillance now being more overbearing than ever, the general public remains blissfully ignorant of its presence.  Our denial daydreams consist of the unintelligible adage ìif you have nothing to hide, then you have nothing to fear.îlet this pitiful defence should have been forcibly denounced in the wake of the unsettling Snowden revelations almost five years ago. We are all too willing to allow the government to further legislate against privacy, and to simply let fringe human rights groups take on the brunt of a battle for it that should be fought on the national scale. Our vote to leave the EU was supposedly to reclaim \\'sovereignty\\' ñ but weíve handed it back to a technophobic, anti-privacy government soon to be unshackled by protective EU rights and data privacy law. In taking aim at the terrorist threat we have instead shot ourselves in the foot.  Liberty has been caught in the crossfire.  Our attitude must change.\"||| \"Finally, one of the more striking changes I made when redrafting was the addition of fire and smoke-based imagery.  What I wanted to convey in employing these techniques was the oppressiveness and widespread nature of prejudice in Southern society. Initially, I used the metaphor of ìsmokescreen obscuring the truthî to show that Henryís enlightenment was starting to help him rethink the firm beliefs his father had imprinted on him. The ësmokeí concealing the truth is really just the muddle of malevolent, invasive prejudices that had been implanted in Henry which prevented him from realising the cruelty of slavery.  In the following paragraph I extend this metaphor and take a slightly different slant on it:\"||| \"So, we propose to boycott the 2018 World Cup not only to pressure the Russian state, but also to demonstrate to FIFA that we will not tolerate their corrupt and unethical practices.  FIFAís immense power over international football should not make them invincible. If we do not put pressure on the organisation we will be implicitly proving to them that they can get away with this without international rebuke. This is why multilateral action is necessary, to push the misgoverned FIFA to either change their ways or be internationally condemned.\"||| \"The constitutional feasibility of a ëmilitary necessityí justification opened up an opportunity for emancipation which Lincoln took unreservedly. Lincolnís fundamental antislavery beliefs constituted the end goal of emancipation, but in his prudence and pragmatism he was capable of adapting the means by which he would reach this bright future.  To the extent that practical considerations ñ most notably the failure of Lincolnís plan of compensated, gradual emancipation - altered the methodology of emancipation, they can be seen as impacting the end result of the Proclamation.|||  But Lincoln was not forced reluctantly into the liberation of millions.  The traditional view of Lincoln as the ëGreat Emancipatorí is well justified ñ the Emancipation Proclamation was crucially the result of his fundamental principles.\"|||\"Still, itís great that natural beauty evokes universal appreciation, for it meant that I could connect more easily with my cousin.  With my command of the Russian language abysmal and his understanding of English incomplete, I was glad that there were simple things like the pretty views we could talk about.\"|||\"But not five minutes into our journey down the path to the pools, this fantasy illusion was shattered by those low-hanging clouds letting loose a tsunami upon us. While it was funny to see the swarms of tourists fleeing back up the path to the safety of their cars, I canít say I enjoyed having my soggy jeans stick firmly to my legs for the rest of the day. Perhaps this was natureís way of getting back at us for those ugly wind turbines.'"
      ]
     },
     "execution_count": 14,
     "metadata": {},
     "output_type": "execute_result"
    }
   ],
   "source": [
    "# INTP\n",
    "Valentin_Pyatev = open(\"Test_file/Valentin_Pyatev.txt\")\n",
    "Valentin_Pyatev = Valentin_Pyatev.readline()\n",
    "Valentin_Pyatev"
   ]
  },
  {
   "cell_type": "code",
   "execution_count": 15,
   "id": "f112e84f",
   "metadata": {
    "scrolled": true
   },
   "outputs": [
    {
     "data": {
      "text/plain": [
       "'words britons heed immediately despite state surveillance overbearing ever general public remains blissfully ignorant presence denial daydreams consist unintelligible adage nothing hide nothing fear let pitiful defence forcibly denounced wake unsettling snowden revelations almost five years ago willing allow government legislate privacy simply let fringe human rights groups take brunt battle fought national scale vote leave eu supposedly reclaim sovereignty handed back technophobic anti privacy government soon unshackled protective eu rights data privacy law taking aim terrorist threat instead shot foot liberty caught crossfire attitude must change finally one striking changes made redrafting addition fire smoke based imagery wanted convey employing techniques oppressiveness widespread nature prejudice southern society initially used metaphor smokescreen obscuring truth show henry enlightenment starting help rethink firm beliefs father imprinted smoke concealing truth really muddle malevolent invasive prejudices implanted henry prevented realising cruelty slavery following paragraph extend metaphor take slightly different slant propose boycott 2018 world cup pressure russian state also demonstrate fifa tolerate corrupt unethical practices fifa immense power international football make invincible put pressure organisation implicitly proving get away without international rebuke multilateral action necessary push misgoverned fifa either change ways internationally condemned constitutional feasibility military necessity justification opened opportunity emancipation lincoln took unreservedly lincoln fundamental antislavery beliefs constituted end goal emancipation prudence pragmatism capable adapting means would reach bright future extent practical considerations notably failure lincoln plan compensated gradual emancipation altered methodology emancipation seen impacting end result proclamation lincoln forced reluctantly liberation millions traditional view lincoln great emancipator well justified emancipation proclamation crucially result fundamental principles still great natural beauty evokes universal appreciation meant could connect easily cousin command russian language abysmal understanding english incomplete glad simple things like pretty views could talk five minutes journey path pools fantasy illusion shattered low hanging clouds letting loose tsunami upon us funny see swarms tourists fleeing back path safety cars say enjoyed soggy jeans stick firmly legs rest day perhaps nature way getting back us ugly wind turbines'"
      ]
     },
     "execution_count": 15,
     "metadata": {},
     "output_type": "execute_result"
    }
   ],
   "source": [
    "cleanSentence(Valentin_Pyatev)"
   ]
  },
  {
   "cell_type": "code",
   "execution_count": 16,
   "id": "c6c8b916",
   "metadata": {},
   "outputs": [
    {
     "data": {
      "text/plain": [
       "'They act like they care They tell me to share But when I carve the stories on my arm The doctor just calls it self harm Iím not asking for attention Thereís a reason I have apprehensions I just need you to see What has become of me||| I know Iím going crazy But they think my thoughts are just hazy When in that chaos, in that confusion Iím crying out for help, to escape my delusions||| Mental health is a state of mind How does one keep that up when assistance is denied All my failed attempts to fight the blaze You treat it like its a passing phase||| Well stop, its not, because mental illness is real Understand that weíre all not made of steel Because when you brush these issues under the carpet You make it seem like its our mistake weíre not guarded||| Donít you realise that its a problem that needs to be addressed Starting at home, in our nest Why do you keep your mouths shut about such things Instead of caring for those with broken wings||| What use is this social stigma When mental illness is not even such an enigma Look around and youíll see the numbers of the affected hiding under the covers ||| This is an issue that needs to be discussed Not looked down upon with disgust Mental illness needs to be accepted So that people can be protected ||| Let me give you some direction People need affection The darkness must be escaped Only then the lost can be saved||| Bring in a change Something not very strange The new year is here Its time to eradicate fear||| Recognise the wrists under the knives To stop mental illness from taking more lives Letís break the convention Start ësuicide preventioní.||| Hoping the festival of lights drives the darkness of mental illness away'"
      ]
     },
     "execution_count": 16,
     "metadata": {},
     "output_type": "execute_result"
    }
   ],
   "source": [
    "# INTP\n",
    "Sanayapoem = open(\"Test_file/Sanayapoem.txt\")\n",
    "Sanayapoem = Sanayapoem.readline()\n",
    "Sanayapoem"
   ]
  },
  {
   "cell_type": "code",
   "execution_count": 17,
   "id": "62d40919",
   "metadata": {
    "scrolled": false
   },
   "outputs": [
    {
     "data": {
      "text/plain": [
       "'act like care tell share carve stories arm doctor calls self harm asking attention reason apprehensions need see become know going crazy think thoughts hazy chaos confusion crying help escape delusions mental health state mind one keep assistance denied failed attempts fight blaze treat like passing phase well stop mental illness real understand made steel brush issues carpet make seem like mistake guarded realise problem needs addressed starting home nest keep mouths shut things instead caring broken wings use social stigma mental illness even enigma look around see numbers affected hiding covers issue needs discussed looked upon disgust mental illness needs accepted people protected let give direction people need affection darkness must escaped lost saved bring change something strange new year time eradicate fear recognise wrists knives stop mental illness taking lives let break convention start suicide prevention hoping festival lights drives darkness mental illness away'"
      ]
     },
     "execution_count": 17,
     "metadata": {},
     "output_type": "execute_result"
    }
   ],
   "source": [
    "cleanSentence(Sanayapoem)"
   ]
  },
  {
   "cell_type": "code",
   "execution_count": 18,
   "id": "e2f5b668",
   "metadata": {},
   "outputs": [],
   "source": [
    "all_posts = open(\"Test_file/All_text.txt\")\n",
    "all_posts = all_posts.readlines()\n",
    "a =['']\n",
    "for i in all_posts:\n",
    "    a[0]=a[0]+i"
   ]
  },
  {
   "cell_type": "code",
   "execution_count": 19,
   "id": "598bf6b2",
   "metadata": {},
   "outputs": [
    {
     "data": {
      "text/plain": [
       "['\"Hope Y\\'all enjoy Mila Kunis\\' birthday tommorow\"|||\"We had decided to enact the hardships faced by a person living in poverty. When we started jotting down words we ran into severe communication problems as we wanted to enable a flexible exchange of ideas to make the most out of this opportunity.||| There were many conflicts of personal interest in deciding the style of performance. We eventually decided to vote on the several different ideas and start working on the best one. But, I would prefer to cut down the time of the skit, if I were given a chance to present it again.||| This would ensure that our message won’t get lost in complexity. I had also learnt about the various personalities of people and how to manage and even befriend them.\"|||\"World Dyslexia Awareness week runs from 2nd October to 8th October in the year of 2017. So, in order to gain insight into the minds of the dyslexic, and to highlight the problems that the dyslexic are facing to our school, we decided to create charts that create awareness about the various struggles that the dyslexic face on a daily basis.||| It was a struggle to truly envision the sort of problems that a person with dyslexia faces, which was evidence of how little people know about dyslexia.||| We came up with different solutions to many of our problems by working together, as a team, which highlighted one of the many benefits of collaboration. This experience however, did give a more global perspective and has taught me to look at a certain situation at multiple perspectives, which, I think is a valuable asset and is another stepping stone towards achieving an international mindset.\"\\n',\n",
       " '\\nWalking among SHARKS|||When you have such big family that you even can\\'t count it\\'s crazy and no there is more that are not the pic all I can say is I\\'m lucky. |||\"Born in St. Croix USVI 🌴, \\nTraveled the World 🌍 been to every continent✈\"\\tThrough the workshop I exactly learned when doing graffiti art on paper at what exact angle what to hold the chisel marker at to get that look of a thick line to thin line in one stroke. In addition, the types of graffiti for example the letters and designs.||| While practicing I felt at first energized and excited. I was all ready to get dirty, then as I did I was getting frustrated as I was not able to get that look which graffiti has but then as I got the hang of it I was able to finally do it because I did not give up.||| From there I was again excited to continue and we moved on to actually using spray paint and that’s were all of us did the graffiti of the schools name “Gurukul”.\\t16 years later I am still with the same person next to me from birth my grandmother this was an amazing birthday|||\\n',\n",
       " '\\n\"Diya Making\\nWe hand-painted diya’s for the Indian festival of lights called Diwali. It was a very fun-filled activity as we got to play with many colors and customized the diya to look like how we want it to.||| We then had to sell our diya’s to the teachers and staff members of the school and all the money we earned would go into the CAS fund. We made it even more interesting by making it a kind of competition by competing amongst one another to see who could earn the most amount of money.||| It was a very fulfilling activity as we got to celebrate Diwali in our own special way. By giving back to the society and lighting up someone else’s life. This gave new meaning to the festival and made it even more rewarding. It was a great experience and a lot of fun because we got to test our inner businessman at the same time we did a good deed\\n\"|||\"Habitat for Humanity\\nThis was a 2-D Art competition organized in our school by the charity Habitat for Humanity for their initiative Rupee for change. We paid for participating in this competition and all the money raised would go into building houses for the under privileged.||| We had to make a drawing using recycled materials on the topic ‘what does a home man to you?’ It was a lot of fun searching for recycled materials to use for our drawing and thinking up a concept I based mine on the idea ‘home is where the heart is.’||| The winner of this competition would get a certificate from the Habitat for Humanity organization and win a football signed by the Indian actor John Abraham. It was a very fun filled experience and  made me realize the importance of having a home.\"\\n',\n",
       " '\\n\"Graffiti- CAS\\nThis was one of the best experience I have had till date in IB as I always wondered how people managed to create such amazing art works on wall in such a short time with so much ease. This was when I actually saw it with my own eyes. I had never expected to get an exposure as such. During this experience, we were taught a little about what graffiti is and how it evolved to be the way it is now. This was something I didn’t know so it really caught my attention.||| Getting to know that graffiti doesn’t need to be the wonderful art pieces on the wall as it had evolved from when cave man wrote on walls to writing your name on the wall to present where there is a mixture of drawings, writings, shapes and designs. After that we also learnt how to use the spray cans and different types of spray caps which are used for different purposes. We got the opportunity to work a lot on the designing of the art piece with different spray colors.||| After the art piece was done, we learnt how to write letters using markers on paper and different ways of how to hold the pen in order to get different effects of it.\\nAs I have always been interested in art, it was an experience I was really excited about and wanted to make the most of it.||| It made me like arts and designs more as I wasn’t able to take it as a subject, so it made me feel free and able to express myself after a very long time. The people who came to teach us, helped us throughout the experience by explaining on how to use the different techniques as well as helped us write our names in different fonts.||| I finally feel that if I practice a little more, I will be able to make different art pieces using the techniques they have taught us.\\n\"\\t\"Describe a topic idea or concept you find so engaging that it makes you lose all track of time why does it captivate you? What or who do you turn to when you want to learn more.\\nDeath or life after death has always been a topic that mesmerizes me as well as shakes me up a little from the inside knowing that the person that was the most closest to you and someone you rely one could leave you at any second of life or even you could leave them.||| Although death being such a common things, no one knows how it happens of what it feels like. There are several myths that we hear about death but no one actually know what it is or how it feels. Every day we hear that thousands of people die in a day and we cry for days, weeks, months or maybe years also but we never know where or how that person is or whether or not that person has reached something that we call heaven.||| We all assume that heaven is the place where a soul meets up with God while hell being a place filled with fire or other things we associate with the devil. Many people and religions believe that after we die, we meet angels or even when a person is going to die, we usually say the death angel took his/ her soul. But to what extent is this true and do angels and devils actually exist? \\nMany religions believe in different processes that take place after a person dies but surprisingly the different myths about life after death, as we are all human beings, doesn’t that mean we all take the same route/ path after a person dies?||| This has been a question that I guess no one is and will be able to answer as there is no one who has had an experience of such and could tell us about it. Talking to different people about death always arises more questions that might not be answered by anyone but due to different beliefs and understanding, we may come up with several answers to them.||| Many people may die a regular death or due to sicknesses or maybe an accident while others may commit suicide or being murdered. As mentioned there are several reasons to why an individual could die, but still people believe that a person can only die when God has written it is time for him/her to die.||| Does that mean the person who commits suicide or dies cause of a murder would have known the exact time of when he or she would die? And also after a person dies, every religion has different ways of caring out the funeral process in which some people burn the body while others bury.||| This makes me wonder why different ways types of funeral if both the souls will be going to the same God or path.\\nUsually when I come up with such questions or want to learn more about it, I discuss it with my family and friends during certain gather ups. Here I am able to get different perspectives as well as a better understanding of what has been taught to us not only in our religion but also what our elders have learnt from their teachers, friends and family. This allows me to broaden my way of thinking as well as become an inquirer and find out more not only about this topic but other topics as well that may rise up from this particular topic.\"||| \"Share an essay on any topic of your choice it can be one you have already written one that describes to a different prompt or one of your own strength.\\nStarting from a childhood that never had friends to a teenage life where friends are all around you at all times has been my journey of friendship. Never would I have imagined living a life where I am surrounded not only by people I want to be around with, but also people that I don’t enjoy being with.||| This was one of the greatest teachings I have learnt from life so far. Living my childhood in a small town in Tanzania called Iringa, where I had no friends of my age and gender. I had a tendency of either being alone at home and taking care of my sisters or either hanging around with my male cousins who are about 7 years older than me playing football during our free times. As simple as life felt, I had never felt the need to have any other friends or people around me till the time I moved to gurukul. A place where I start my day off with a friend waking me up, to the time where I say the final words of the day to my roommates with a goodnight. \\nLiving a life in hostel has made a major impact in my social life, allowing me to interact with different types of people at various times of my life.||| This may include people that I get along with such as my best friends but also other people who I might have had arguments and fights with or people that just don’t seem like the people I would want to be around. This made understand that in the future we don’t have a choice as to the type of people we want to be around and we have to manage being around different people.||| As per my future plans, I would like to be a nurse and therefore, interacting with different people is a major aspect that according to me I had to learn as I lacked a lot in the section.\\n\"\\n',\n",
       " '\\n\"Maybe somethings are meant to be\\nMaybe some people are worth your tee\\nMaybe some memories never fade away\\nMaybe us is a better way\"|||A temporary thing could became a permanent solution |||\"You treat me like the moon\\nThat lightens up your night sky\\nThings that you do for me \\nShine brighter than the stars up high\\nAnd baby you make me feel alive…\"|||\\n',\n",
       " '\\n\"This photograph is of a river of 1038 miles of the north-western US rising in Yellowstone National Park in Wyoming that flows from Idaho into the state of Washington, where it joins the Colombian river. \\nThe first thing that catches your attention is the river flowing its way through the thick forest and the high icy mountains.|||\\nThe photograph is filled with organic shapes with optical texture as it is a photograph of nature. The photograph seems to be taken from an aerial perspective such that we get a vast expanse and to emphasize on curves of the snake-like river, justifying the title - “The Tetons and the Snake River.”||| The photographer’s intentions were apparently to focus on the depth rather than the bright color of the picture as the picture is black and white which is emphasizing on the river and bring about the contrast.||| We can see the depth well as the river is broad from the foreground that is narrowing down as it merges into the background. We can also see the bright sunlight piercing its way through the clouds that is just adding on to the undying eternal beauty of nature, and this photograph.||| There is a lot of movement in this picture as it directs or guides the viewer’s attention from the river to the mountains, whose tops seem to be covered with a thin layer of ice. All the visual elements are interacting very well with each other in a quite aesthetically pleasing manner.  Overall, the picture is very well balanced and proportionate, decidedly less negative space is seen, as the screen has been filled with a lot of shapes and textures.||| The area has been used very efficiently.\\n\"\\t\"So I was scrolling through my feed when this caught my attention: \\nDo you guys know that people are shamed for talking about their tragic, painful experiences in public? Being a victim of something so inhuman is already such a big deal, and when they\\'re just trying to make sure that we are more aware of the situation so maybe, somehow, we know what to do if the same thing happens to us, we\\'re shaming them.||| Right there, in front of everyone, judging them and asking them to keep it to themselves. So much appreciation for just caring. Rape and molestation victims were, *are, being shamed for sharing their experiences. Zaira Wasim was humiliated because apparently, it was a \"\"publicity stunt\"\" when she talked about getting molested. Priyanka Chopra was shamed for wearing a dress to meet our PM, Narendra Modi and Mahira Khan was shamed for smoking.||| Numerous other ordinary girls and women were shamed for countless other things. Right now, we\\'re talking about slut shaming, body shaming, and what not. Shaming is a way for the perverts of the world to get some sort of twisted pleasure at the expense of women.||| We really have to stop tilting towards being a nation which does not understand the value of personal choices. If I wish to talk about my experiences in public, I will. If I want to wear a dress to meet our PM, I will. And if I want to smoke, I will. None of these personal decisions should be of any concern to the public. And it\\'s the same way for each and every one of you out there, stop shaming and stop being a victim who doesn\\'t speak up.\"|||\"When one thinks with his head, hundreds of practical and rational reasonable solutions and ways pop up in his head that completely block out his emotions and feelings altogether. There’s no comparing or segregating based on one\\'s likes and dislikes, and personal emotion-filled opinions do not matter. Discriminating, being partial and biased based on personal opinions is entirely out of the question. It is precisely like science.||| Everything revolves only around facts and proved theories and ideas. It becomes relatively more comfortable for one to make decisions or choose in a few situations where it would be nearly impossible to think with loads of feelings drooping in, confusing the hell out of you.|||\\nOn the other hand, when one thinks with his heart, he immediately starts thinking about everyone else around him and not only himself. He starts thinking about how he would feel if he were in someone else’s situation. He starts understanding people around him. Thinking from the heart can get one to do great things in life making sure that no individual hurts themselves or anyone else for any reason. We learn to do things for the greater good of the society. It helps us increase our emotional intelligence look at things from different perspectives. It makes you realize that if you want to be respected, you must show some respect. \\n\"|||In this workshop, graffiti artists from Mumbai had come to our school on 24th July 2018 for a couple of hours to help us understand what exactly graffiti is and why it is important. We attended an orientation where they showed us a few videos and pictures of their art pieces on various screens such as the walls of the streets of a few cities.||| They handed each of us with a crafty flat sketch pen and told us to hold it an angle of 45degrees for the fanciest and most stylish writing one could get. If held in any other way, it would be of equal width throughout the letter or curve- not so fancy. Then they asked us to draw a few horizontal, vertical, diagonal lines and a few curves and circles, so we get the hang of it. We were taught how to write all the 26 alphabets and then, our name. We were then shown how to covert our name into a tag by using design and style. Later, we all got a chance to spray a chunk of cellophane attached to two ends of a wall which was our screen. |||\"The theme of the poem is exceptionally intense. It shows us the innocence of the small boy. The poem starts off in a cold dead war zone scene where the writer observes something by a tree. “As I approached it, I could see it beckoning to me,” this tells us that the write was quite far from the tree as he could not make out what “it” was, maybe it was a huge rock or a small boy. As he moves closer, he notices that it was a small soldier boy who looked happy and it was as if he could not wait for the writer to approach him as the writer tells us that “I could see him beckoning to me.”||| Although it was not very clear why he was sitting all alone, different possible reasons started flashing in- maybe he was depressed, lost, just wondering, contemplating, prefers his own company or does not really care or bother about anything anymore. Maybe he was sitting so calmly because he was trying to accept something, maybe he’d just lost someone.||| That is when my curiosity went from a 0-100 real quick. \\nAs the writer approached him, it was as if he was calling him. He wanted him to be there. He wanted him to go up to him and talk to him, maybe he wanted directions or just wanted to talk to someone.||| Looking at his condition and the atmosphere around with all those vibes, it seemed as if he’d just fought a battle the night before. The writer uses colloquial language such as “morn” instead of “mourn” to convey the message rightly to us. When the writer tells us that the battle had lasted through the night, maybe he meant it literally or just figuratively.||| The night could be used to show the darkness, and the morning’s light could’ve meant that the battle was finally over. Just like the famous metaphor “there’s light at the end of every tunnel.”|||  \\nThe title of the poem is quite ironic because, from the start, we think that the boy just had a “small pain” in his chest, but later on, we find out that the actual truth- the small pain was a bullet hole.||| Perhaps, a bullet had pierced through his body sometime during the war, and maybe the pain felt so minute because he was already hurting way too much because of the people he might’ve lost during the war. The last few minutes of his life, the young boy spent talking to the writer and kindly requesting him for a sip of water after the rough night he had been through. \\n\"\\n',\n",
       " '\\nOur aim in this particular experience was basically to spread awareness about the French culture and lifestyle as well as inform the students about why exactly French day is celebrated and a gist about the French revolution.||| We brought out this message through variety of games, food items served and also a fun fact corner.\\tOn 31st of July we celebrated French national day. It is actually suppose to be celebrated on 14th of July but because of interference of other activities it got postponed to 31st July.||| Basically in the past this day was celebrated to signify the French revolution and that is exactly what we all 12th grade French students wanted to convey through this small carnival we had organized for the students of the school.||| Mainly we spread awareness of the French culture and lifestyle through the variety of games we had organized and also as normal carnivals consist of food items, so we decided to keep honey chili potato, appy fizz (which signified champagne) and crepe. Other than all this we had keep a different stalls for face painting, fun fact corner and photo booth(with a Eiffel tower). |||Through this particular activity I inculcated the skill of planning a carnival and how all the procedure takes place and also identified my own strengths and weaknesses.||| As mentioned this activity wasn’t a individual task and so our grade bonded and learnt how to corporate with others thoughts and ideas. For me I achieved my goals which I had aimed for and enjoyed this CAS experience to its fullest.\\n',\n",
       " '\\nCAS reflection ‘Thailand trip’: We went to Thailand on 28 February for our CAS trip. We were going to do an advance open water dive in Thailand with an international diving organisation known as PADI. We left for Thailand on 28th of February.|||The first day we did do any activity but went for a city tour. Then the next day we went to the place where we were going to learn scuba diving and its name was ‘Dive Asia’. We were divided into groups. The first group did the practical stuff while the other did the theory.||| This was until noon and then we swapped places. This went on for about 3 days and then we went for the open water dives.|||\\tTo clear it we needed four dives and that we did in two days. And most of us got selected for the advanced open water diving course. To clear this, we needed five more dives that we cleared in the remaining days and on top of that we also did two fun dives. On the last we did some shopping and then returned back to India.|||This was quite a unique experience for me and I enjoyed it a lot. The learning outcomes of this experience are: demonstrate challenges have been undertaken, developing new skills in the process, identify own strengths and develop areas of growth, show commitment and perseverance in CAS experience.||| I thoroughly enjoyed this experience and learnt a lot.\\n',\n",
       " '\\nOn February 8, 2018, during our CAS period we had a house making competition. We were informed a few days prior to the competition to gather resources or any recyclable items which we can use to build our house.||| I had collected a few articles such as bird feathers, fallen leaves, toothpicks, wood, a spare button, and a few popsicle sticks. While working I faced many problems while placing the items in way which would depict a house. I had to communicate with the others in the room to help me with cutting the tape and to borrow glue. After about an hour I had finished making my house. I could have improved in brining in more of a variety of resources, and with a better design the house would’ve looked better.|| I enjoyed this activity because it was getting me out of my comfort zone as I’m not fond of art. It was a nice change. \\tOn August 9th 2017, the students of the Computer Science class had a presentation on “digital citizenship.” Each student was assigned a different task to explain in their own different way. The topic which was I was responsible for was to explain the frequent connectivity of social media and cell phone usage. We had presented this in front of MYP.||| I explained in detail how children of all ages and even adults use cell phones and social media, and how the time of usage is distributed a day. On average more than 3 hours of the day is spent on social media by an average person. This was to show them how the usage of social media and cellphones could have a negative influence on health and academics.||| I had also participated in a mime act to help explain our motive. The mime was showing how lives are being ruined due to too much use of these features. During the mime I felt that we lacked practice and coordination. More practice would have been more beneficial in order for us to get a better performance. For my speaking part, I spoke well to the best of my knowledge.||| I could have spoken louder so that the whole audience could hear me. At the end of our presentation, we had submitted questions in order to quiz the audience to see how much they learned from our presentation.\\tFor the Rally for Rivers movement, our group had decided to make a large poster which was 9 small charts joined together and I had to write and recite a poem.||| We had depicted India before and after the Rally for Rivers movement. Showing how the rivers of India are and the problems caused due to this. On the other side we showed how the rivers will look after the movement.||| The movement was to plant trees on  a 1 kilometer range from both sides of the river. This was to improve the health of the river. My poem which I had written was about the river’s development. Using imagery and showing how the river was and how it was benefited due because of the movement.||| I feel like I could have added a few more stanzas to the poem to add more emphasis. We had taken a video at the end to show the poster and in the background explaining the poster along with the poem. The video could’ve been done in a much better manner.||| To improve on this we could have planned the whole video out. Overall I am satisfied with our performance. I hope that I can implement these corrections in my future projects.\\n',\n",
       " '\\nThe idea to learn new things and to receive new experience, motivates me the most. Another motivator is that I always want to be perfect in all the fields and I am able to move out of my comfort zone to achieve this.|||Your business has a good brand image because of your commitment to change the youth, and I would be honored to be mentored under such commitment because youth is the future of our society and I think that everyone should play some part for that commitment.|||I think my ability of openness to change and experience would be good for your company. my ability to accept challenges may be a value addition for your company. I am a keen observer and will add cultural diversity in your company.\\n',\n",
       " '\\nLife Was Meant For Amazing Friends & Great Adventures|||if anyone gives u the chance to do IB..||| SAY NO right away|||\\tall i ever needed was vitamin sea\\n',\n",
       " '\\nIf you all can\\'t be crazy when together... they\\'re not for you!✨|||\\tLift like there\\'s no tomorrow!!🔥😎|||\\tBaddamm Boom Busshhh!!!!🔥😎 If you see an empty side at the pool... why not?😅😬|||When life gets boring, the single best thing you can do is hang out with a doggo!!🐶❤️|||\"When you find a shopping cart while you out exploring the magical garden, don\\'t freak out! \\nJust remember kick buttowski and ride that shit!!😂😎 \"\\n',\n",
       " \"\\nI enjoyed doing Graffiti because it boosted my spatial skills.I also developed the understanding towards how spray cans work.,the sense of colors about where they are supposed to be used.|||I knew already that the gas that comes out of the spray can is bad for our lungs therefore I searched my pockets for a handkerchief but could not fin it therefore I used my tie for it and cover my nose so that I don't inhale the harmful gases.|||As I was doing the activity I was thinking about other practical usage of it which suddenly reminded me of the white ford mustang my neighbour has.Painting it with the spray cans would be a lot cool though provided a lot of color combinations and time.The activity was dopamine releaser.|||kkkkkkkkkkkkkkkkkkkkkkkkkkkkkkkkkkkkkkkkkkkkkkkkkkkkkkkkkkkkkkkkkkkkkkkkk|||\\t;;;;;;;;;;;;;;;;;;;;;;;;;;;;;;;;;;;;;;;;;;;;;;;;;;;;;;;;;;;;;;;;;;;;;;;;;;;;;;;;;;;;;;;;;;;;;;;;;;;;;;;;;;;;;;;;;;;;;\\n\",\n",
       " '\\n\\n\\n\\n\\n']"
      ]
     },
     "execution_count": 19,
     "metadata": {},
     "output_type": "execute_result"
    }
   ],
   "source": [
    "all_posts = a[0].split('&&&')\n",
    "all_posts"
   ]
  },
  {
   "cell_type": "code",
   "execution_count": 20,
   "id": "6f9f2c21",
   "metadata": {},
   "outputs": [
    {
     "data": {
      "text/plain": [
       "['\"Hope Y\\'all enjoy Mila Kunis\\' birthday tommorow\"|||\"We had decided to enact the hardships faced by a person living in poverty. When we started jotting down words we ran into severe communication problems as we wanted to enable a flexible exchange of ideas to make the most out of this opportunity.||| There were many conflicts of personal interest in deciding the style of performance. We eventually decided to vote on the several different ideas and start working on the best one. But, I would prefer to cut down the time of the skit, if I were given a chance to present it again.||| This would ensure that our message won’t get lost in complexity. I had also learnt about the various personalities of people and how to manage and even befriend them.\"|||\"World Dyslexia Awareness week runs from 2nd October to 8th October in the year of 2017. So, in order to gain insight into the minds of the dyslexic, and to highlight the problems that the dyslexic are facing to our school, we decided to create charts that create awareness about the various struggles that the dyslexic face on a daily basis.||| It was a struggle to truly envision the sort of problems that a person with dyslexia faces, which was evidence of how little people know about dyslexia.||| We came up with different solutions to many of our problems by working together, as a team, which highlighted one of the many benefits of collaboration. This experience however, did give a more global perspective and has taught me to look at a certain situation at multiple perspectives, which, I think is a valuable asset and is another stepping stone towards achieving an international mindset.\"\\n',\n",
       " '\\nWalking among SHARKS|||When you have such big family that you even can\\'t count it\\'s crazy and no there is more that are not the pic all I can say is I\\'m lucky. |||\"Born in St. Croix USVI 🌴, \\nTraveled the World 🌍 been to every continent✈\"\\tThrough the workshop I exactly learned when doing graffiti art on paper at what exact angle what to hold the chisel marker at to get that look of a thick line to thin line in one stroke. In addition, the types of graffiti for example the letters and designs.||| While practicing I felt at first energized and excited. I was all ready to get dirty, then as I did I was getting frustrated as I was not able to get that look which graffiti has but then as I got the hang of it I was able to finally do it because I did not give up.||| From there I was again excited to continue and we moved on to actually using spray paint and that’s were all of us did the graffiti of the schools name “Gurukul”.\\t16 years later I am still with the same person next to me from birth my grandmother this was an amazing birthday|||\\n',\n",
       " '\\n\"Diya Making\\nWe hand-painted diya’s for the Indian festival of lights called Diwali. It was a very fun-filled activity as we got to play with many colors and customized the diya to look like how we want it to.||| We then had to sell our diya’s to the teachers and staff members of the school and all the money we earned would go into the CAS fund. We made it even more interesting by making it a kind of competition by competing amongst one another to see who could earn the most amount of money.||| It was a very fulfilling activity as we got to celebrate Diwali in our own special way. By giving back to the society and lighting up someone else’s life. This gave new meaning to the festival and made it even more rewarding. It was a great experience and a lot of fun because we got to test our inner businessman at the same time we did a good deed\\n\"|||\"Habitat for Humanity\\nThis was a 2-D Art competition organized in our school by the charity Habitat for Humanity for their initiative Rupee for change. We paid for participating in this competition and all the money raised would go into building houses for the under privileged.||| We had to make a drawing using recycled materials on the topic ‘what does a home man to you?’ It was a lot of fun searching for recycled materials to use for our drawing and thinking up a concept I based mine on the idea ‘home is where the heart is.’||| The winner of this competition would get a certificate from the Habitat for Humanity organization and win a football signed by the Indian actor John Abraham. It was a very fun filled experience and  made me realize the importance of having a home.\"\\n',\n",
       " '\\n\"Graffiti- CAS\\nThis was one of the best experience I have had till date in IB as I always wondered how people managed to create such amazing art works on wall in such a short time with so much ease. This was when I actually saw it with my own eyes. I had never expected to get an exposure as such. During this experience, we were taught a little about what graffiti is and how it evolved to be the way it is now. This was something I didn’t know so it really caught my attention.||| Getting to know that graffiti doesn’t need to be the wonderful art pieces on the wall as it had evolved from when cave man wrote on walls to writing your name on the wall to present where there is a mixture of drawings, writings, shapes and designs. After that we also learnt how to use the spray cans and different types of spray caps which are used for different purposes. We got the opportunity to work a lot on the designing of the art piece with different spray colors.||| After the art piece was done, we learnt how to write letters using markers on paper and different ways of how to hold the pen in order to get different effects of it.\\nAs I have always been interested in art, it was an experience I was really excited about and wanted to make the most of it.||| It made me like arts and designs more as I wasn’t able to take it as a subject, so it made me feel free and able to express myself after a very long time. The people who came to teach us, helped us throughout the experience by explaining on how to use the different techniques as well as helped us write our names in different fonts.||| I finally feel that if I practice a little more, I will be able to make different art pieces using the techniques they have taught us.\\n\"\\t\"Describe a topic idea or concept you find so engaging that it makes you lose all track of time why does it captivate you? What or who do you turn to when you want to learn more.\\nDeath or life after death has always been a topic that mesmerizes me as well as shakes me up a little from the inside knowing that the person that was the most closest to you and someone you rely one could leave you at any second of life or even you could leave them.||| Although death being such a common things, no one knows how it happens of what it feels like. There are several myths that we hear about death but no one actually know what it is or how it feels. Every day we hear that thousands of people die in a day and we cry for days, weeks, months or maybe years also but we never know where or how that person is or whether or not that person has reached something that we call heaven.||| We all assume that heaven is the place where a soul meets up with God while hell being a place filled with fire or other things we associate with the devil. Many people and religions believe that after we die, we meet angels or even when a person is going to die, we usually say the death angel took his/ her soul. But to what extent is this true and do angels and devils actually exist? \\nMany religions believe in different processes that take place after a person dies but surprisingly the different myths about life after death, as we are all human beings, doesn’t that mean we all take the same route/ path after a person dies?||| This has been a question that I guess no one is and will be able to answer as there is no one who has had an experience of such and could tell us about it. Talking to different people about death always arises more questions that might not be answered by anyone but due to different beliefs and understanding, we may come up with several answers to them.||| Many people may die a regular death or due to sicknesses or maybe an accident while others may commit suicide or being murdered. As mentioned there are several reasons to why an individual could die, but still people believe that a person can only die when God has written it is time for him/her to die.||| Does that mean the person who commits suicide or dies cause of a murder would have known the exact time of when he or she would die? And also after a person dies, every religion has different ways of caring out the funeral process in which some people burn the body while others bury.||| This makes me wonder why different ways types of funeral if both the souls will be going to the same God or path.\\nUsually when I come up with such questions or want to learn more about it, I discuss it with my family and friends during certain gather ups. Here I am able to get different perspectives as well as a better understanding of what has been taught to us not only in our religion but also what our elders have learnt from their teachers, friends and family. This allows me to broaden my way of thinking as well as become an inquirer and find out more not only about this topic but other topics as well that may rise up from this particular topic.\"||| \"Share an essay on any topic of your choice it can be one you have already written one that describes to a different prompt or one of your own strength.\\nStarting from a childhood that never had friends to a teenage life where friends are all around you at all times has been my journey of friendship. Never would I have imagined living a life where I am surrounded not only by people I want to be around with, but also people that I don’t enjoy being with.||| This was one of the greatest teachings I have learnt from life so far. Living my childhood in a small town in Tanzania called Iringa, where I had no friends of my age and gender. I had a tendency of either being alone at home and taking care of my sisters or either hanging around with my male cousins who are about 7 years older than me playing football during our free times. As simple as life felt, I had never felt the need to have any other friends or people around me till the time I moved to gurukul. A place where I start my day off with a friend waking me up, to the time where I say the final words of the day to my roommates with a goodnight. \\nLiving a life in hostel has made a major impact in my social life, allowing me to interact with different types of people at various times of my life.||| This may include people that I get along with such as my best friends but also other people who I might have had arguments and fights with or people that just don’t seem like the people I would want to be around. This made understand that in the future we don’t have a choice as to the type of people we want to be around and we have to manage being around different people.||| As per my future plans, I would like to be a nurse and therefore, interacting with different people is a major aspect that according to me I had to learn as I lacked a lot in the section.\\n\"\\n',\n",
       " '\\n\"Maybe somethings are meant to be\\nMaybe some people are worth your tee\\nMaybe some memories never fade away\\nMaybe us is a better way\"|||A temporary thing could became a permanent solution |||\"You treat me like the moon\\nThat lightens up your night sky\\nThings that you do for me \\nShine brighter than the stars up high\\nAnd baby you make me feel alive…\"|||\\n',\n",
       " '\\n\"This photograph is of a river of 1038 miles of the north-western US rising in Yellowstone National Park in Wyoming that flows from Idaho into the state of Washington, where it joins the Colombian river. \\nThe first thing that catches your attention is the river flowing its way through the thick forest and the high icy mountains.|||\\nThe photograph is filled with organic shapes with optical texture as it is a photograph of nature. The photograph seems to be taken from an aerial perspective such that we get a vast expanse and to emphasize on curves of the snake-like river, justifying the title - “The Tetons and the Snake River.”||| The photographer’s intentions were apparently to focus on the depth rather than the bright color of the picture as the picture is black and white which is emphasizing on the river and bring about the contrast.||| We can see the depth well as the river is broad from the foreground that is narrowing down as it merges into the background. We can also see the bright sunlight piercing its way through the clouds that is just adding on to the undying eternal beauty of nature, and this photograph.||| There is a lot of movement in this picture as it directs or guides the viewer’s attention from the river to the mountains, whose tops seem to be covered with a thin layer of ice. All the visual elements are interacting very well with each other in a quite aesthetically pleasing manner.  Overall, the picture is very well balanced and proportionate, decidedly less negative space is seen, as the screen has been filled with a lot of shapes and textures.||| The area has been used very efficiently.\\n\"\\t\"So I was scrolling through my feed when this caught my attention: \\nDo you guys know that people are shamed for talking about their tragic, painful experiences in public? Being a victim of something so inhuman is already such a big deal, and when they\\'re just trying to make sure that we are more aware of the situation so maybe, somehow, we know what to do if the same thing happens to us, we\\'re shaming them.||| Right there, in front of everyone, judging them and asking them to keep it to themselves. So much appreciation for just caring. Rape and molestation victims were, *are, being shamed for sharing their experiences. Zaira Wasim was humiliated because apparently, it was a \"\"publicity stunt\"\" when she talked about getting molested. Priyanka Chopra was shamed for wearing a dress to meet our PM, Narendra Modi and Mahira Khan was shamed for smoking.||| Numerous other ordinary girls and women were shamed for countless other things. Right now, we\\'re talking about slut shaming, body shaming, and what not. Shaming is a way for the perverts of the world to get some sort of twisted pleasure at the expense of women.||| We really have to stop tilting towards being a nation which does not understand the value of personal choices. If I wish to talk about my experiences in public, I will. If I want to wear a dress to meet our PM, I will. And if I want to smoke, I will. None of these personal decisions should be of any concern to the public. And it\\'s the same way for each and every one of you out there, stop shaming and stop being a victim who doesn\\'t speak up.\"|||\"When one thinks with his head, hundreds of practical and rational reasonable solutions and ways pop up in his head that completely block out his emotions and feelings altogether. There’s no comparing or segregating based on one\\'s likes and dislikes, and personal emotion-filled opinions do not matter. Discriminating, being partial and biased based on personal opinions is entirely out of the question. It is precisely like science.||| Everything revolves only around facts and proved theories and ideas. It becomes relatively more comfortable for one to make decisions or choose in a few situations where it would be nearly impossible to think with loads of feelings drooping in, confusing the hell out of you.|||\\nOn the other hand, when one thinks with his heart, he immediately starts thinking about everyone else around him and not only himself. He starts thinking about how he would feel if he were in someone else’s situation. He starts understanding people around him. Thinking from the heart can get one to do great things in life making sure that no individual hurts themselves or anyone else for any reason. We learn to do things for the greater good of the society. It helps us increase our emotional intelligence look at things from different perspectives. It makes you realize that if you want to be respected, you must show some respect. \\n\"|||In this workshop, graffiti artists from Mumbai had come to our school on 24th July 2018 for a couple of hours to help us understand what exactly graffiti is and why it is important. We attended an orientation where they showed us a few videos and pictures of their art pieces on various screens such as the walls of the streets of a few cities.||| They handed each of us with a crafty flat sketch pen and told us to hold it an angle of 45degrees for the fanciest and most stylish writing one could get. If held in any other way, it would be of equal width throughout the letter or curve- not so fancy. Then they asked us to draw a few horizontal, vertical, diagonal lines and a few curves and circles, so we get the hang of it. We were taught how to write all the 26 alphabets and then, our name. We were then shown how to covert our name into a tag by using design and style. Later, we all got a chance to spray a chunk of cellophane attached to two ends of a wall which was our screen. |||\"The theme of the poem is exceptionally intense. It shows us the innocence of the small boy. The poem starts off in a cold dead war zone scene where the writer observes something by a tree. “As I approached it, I could see it beckoning to me,” this tells us that the write was quite far from the tree as he could not make out what “it” was, maybe it was a huge rock or a small boy. As he moves closer, he notices that it was a small soldier boy who looked happy and it was as if he could not wait for the writer to approach him as the writer tells us that “I could see him beckoning to me.”||| Although it was not very clear why he was sitting all alone, different possible reasons started flashing in- maybe he was depressed, lost, just wondering, contemplating, prefers his own company or does not really care or bother about anything anymore. Maybe he was sitting so calmly because he was trying to accept something, maybe he’d just lost someone.||| That is when my curiosity went from a 0-100 real quick. \\nAs the writer approached him, it was as if he was calling him. He wanted him to be there. He wanted him to go up to him and talk to him, maybe he wanted directions or just wanted to talk to someone.||| Looking at his condition and the atmosphere around with all those vibes, it seemed as if he’d just fought a battle the night before. The writer uses colloquial language such as “morn” instead of “mourn” to convey the message rightly to us. When the writer tells us that the battle had lasted through the night, maybe he meant it literally or just figuratively.||| The night could be used to show the darkness, and the morning’s light could’ve meant that the battle was finally over. Just like the famous metaphor “there’s light at the end of every tunnel.”|||  \\nThe title of the poem is quite ironic because, from the start, we think that the boy just had a “small pain” in his chest, but later on, we find out that the actual truth- the small pain was a bullet hole.||| Perhaps, a bullet had pierced through his body sometime during the war, and maybe the pain felt so minute because he was already hurting way too much because of the people he might’ve lost during the war. The last few minutes of his life, the young boy spent talking to the writer and kindly requesting him for a sip of water after the rough night he had been through. \\n\"\\n',\n",
       " '\\nOur aim in this particular experience was basically to spread awareness about the French culture and lifestyle as well as inform the students about why exactly French day is celebrated and a gist about the French revolution.||| We brought out this message through variety of games, food items served and also a fun fact corner.\\tOn 31st of July we celebrated French national day. It is actually suppose to be celebrated on 14th of July but because of interference of other activities it got postponed to 31st July.||| Basically in the past this day was celebrated to signify the French revolution and that is exactly what we all 12th grade French students wanted to convey through this small carnival we had organized for the students of the school.||| Mainly we spread awareness of the French culture and lifestyle through the variety of games we had organized and also as normal carnivals consist of food items, so we decided to keep honey chili potato, appy fizz (which signified champagne) and crepe. Other than all this we had keep a different stalls for face painting, fun fact corner and photo booth(with a Eiffel tower). |||Through this particular activity I inculcated the skill of planning a carnival and how all the procedure takes place and also identified my own strengths and weaknesses.||| As mentioned this activity wasn’t a individual task and so our grade bonded and learnt how to corporate with others thoughts and ideas. For me I achieved my goals which I had aimed for and enjoyed this CAS experience to its fullest.\\n',\n",
       " '\\nCAS reflection ‘Thailand trip’: We went to Thailand on 28 February for our CAS trip. We were going to do an advance open water dive in Thailand with an international diving organisation known as PADI. We left for Thailand on 28th of February.|||The first day we did do any activity but went for a city tour. Then the next day we went to the place where we were going to learn scuba diving and its name was ‘Dive Asia’. We were divided into groups. The first group did the practical stuff while the other did the theory.||| This was until noon and then we swapped places. This went on for about 3 days and then we went for the open water dives.|||\\tTo clear it we needed four dives and that we did in two days. And most of us got selected for the advanced open water diving course. To clear this, we needed five more dives that we cleared in the remaining days and on top of that we also did two fun dives. On the last we did some shopping and then returned back to India.|||This was quite a unique experience for me and I enjoyed it a lot. The learning outcomes of this experience are: demonstrate challenges have been undertaken, developing new skills in the process, identify own strengths and develop areas of growth, show commitment and perseverance in CAS experience.||| I thoroughly enjoyed this experience and learnt a lot.\\n',\n",
       " '\\nOn February 8, 2018, during our CAS period we had a house making competition. We were informed a few days prior to the competition to gather resources or any recyclable items which we can use to build our house.||| I had collected a few articles such as bird feathers, fallen leaves, toothpicks, wood, a spare button, and a few popsicle sticks. While working I faced many problems while placing the items in way which would depict a house. I had to communicate with the others in the room to help me with cutting the tape and to borrow glue. After about an hour I had finished making my house. I could have improved in brining in more of a variety of resources, and with a better design the house would’ve looked better.|| I enjoyed this activity because it was getting me out of my comfort zone as I’m not fond of art. It was a nice change. \\tOn August 9th 2017, the students of the Computer Science class had a presentation on “digital citizenship.” Each student was assigned a different task to explain in their own different way. The topic which was I was responsible for was to explain the frequent connectivity of social media and cell phone usage. We had presented this in front of MYP.||| I explained in detail how children of all ages and even adults use cell phones and social media, and how the time of usage is distributed a day. On average more than 3 hours of the day is spent on social media by an average person. This was to show them how the usage of social media and cellphones could have a negative influence on health and academics.||| I had also participated in a mime act to help explain our motive. The mime was showing how lives are being ruined due to too much use of these features. During the mime I felt that we lacked practice and coordination. More practice would have been more beneficial in order for us to get a better performance. For my speaking part, I spoke well to the best of my knowledge.||| I could have spoken louder so that the whole audience could hear me. At the end of our presentation, we had submitted questions in order to quiz the audience to see how much they learned from our presentation.\\tFor the Rally for Rivers movement, our group had decided to make a large poster which was 9 small charts joined together and I had to write and recite a poem.||| We had depicted India before and after the Rally for Rivers movement. Showing how the rivers of India are and the problems caused due to this. On the other side we showed how the rivers will look after the movement.||| The movement was to plant trees on  a 1 kilometer range from both sides of the river. This was to improve the health of the river. My poem which I had written was about the river’s development. Using imagery and showing how the river was and how it was benefited due because of the movement.||| I feel like I could have added a few more stanzas to the poem to add more emphasis. We had taken a video at the end to show the poster and in the background explaining the poster along with the poem. The video could’ve been done in a much better manner.||| To improve on this we could have planned the whole video out. Overall I am satisfied with our performance. I hope that I can implement these corrections in my future projects.\\n',\n",
       " '\\nThe idea to learn new things and to receive new experience, motivates me the most. Another motivator is that I always want to be perfect in all the fields and I am able to move out of my comfort zone to achieve this.|||Your business has a good brand image because of your commitment to change the youth, and I would be honored to be mentored under such commitment because youth is the future of our society and I think that everyone should play some part for that commitment.|||I think my ability of openness to change and experience would be good for your company. my ability to accept challenges may be a value addition for your company. I am a keen observer and will add cultural diversity in your company.\\n',\n",
       " '\\nLife Was Meant For Amazing Friends & Great Adventures|||if anyone gives u the chance to do IB..||| SAY NO right away|||\\tall i ever needed was vitamin sea\\n',\n",
       " '\\nIf you all can\\'t be crazy when together... they\\'re not for you!✨|||\\tLift like there\\'s no tomorrow!!🔥😎|||\\tBaddamm Boom Busshhh!!!!🔥😎 If you see an empty side at the pool... why not?😅😬|||When life gets boring, the single best thing you can do is hang out with a doggo!!🐶❤️|||\"When you find a shopping cart while you out exploring the magical garden, don\\'t freak out! \\nJust remember kick buttowski and ride that shit!!😂😎 \"\\n',\n",
       " \"\\nI enjoyed doing Graffiti because it boosted my spatial skills.I also developed the understanding towards how spray cans work.,the sense of colors about where they are supposed to be used.|||I knew already that the gas that comes out of the spray can is bad for our lungs therefore I searched my pockets for a handkerchief but could not fin it therefore I used my tie for it and cover my nose so that I don't inhale the harmful gases.|||As I was doing the activity I was thinking about other practical usage of it which suddenly reminded me of the white ford mustang my neighbour has.Painting it with the spray cans would be a lot cool though provided a lot of color combinations and time.The activity was dopamine releaser.|||kkkkkkkkkkkkkkkkkkkkkkkkkkkkkkkkkkkkkkkkkkkkkkkkkkkkkkkkkkkkkkkkkkkkkkkkk|||\\t;;;;;;;;;;;;;;;;;;;;;;;;;;;;;;;;;;;;;;;;;;;;;;;;;;;;;;;;;;;;;;;;;;;;;;;;;;;;;;;;;;;;;;;;;;;;;;;;;;;;;;;;;;;;;;;;;;;;;\\n\"]"
      ]
     },
     "execution_count": 20,
     "metadata": {},
     "output_type": "execute_result"
    }
   ],
   "source": [
    "all_posts = all_posts[:13]\n",
    "all_posts"
   ]
  },
  {
   "cell_type": "code",
   "execution_count": 21,
   "id": "b041b94d",
   "metadata": {},
   "outputs": [
    {
     "data": {
      "text/plain": [
       "'\"Hope Y\\'all enjoy Mila Kunis\\' birthday tommorow\"|||\"We had decided to enact the hardships faced by a person living in poverty. When we started jotting down words we ran into severe communication problems as we wanted to enable a flexible exchange of ideas to make the most out of this opportunity.||| There were many conflicts of personal interest in deciding the style of performance. We eventually decided to vote on the several different ideas and start working on the best one. But, I would prefer to cut down the time of the skit, if I were given a chance to present it again.||| This would ensure that our message won’t get lost in complexity. I had also learnt about the various personalities of people and how to manage and even befriend them.\"|||\"World Dyslexia Awareness week runs from 2nd October to 8th October in the year of 2017. So, in order to gain insight into the minds of the dyslexic, and to highlight the problems that the dyslexic are facing to our school, we decided to create charts that create awareness about the various struggles that the dyslexic face on a daily basis.||| It was a struggle to truly envision the sort of problems that a person with dyslexia faces, which was evidence of how little people know about dyslexia.||| We came up with different solutions to many of our problems by working together, as a team, which highlighted one of the many benefits of collaboration. This experience however, did give a more global perspective and has taught me to look at a certain situation at multiple perspectives, which, I think is a valuable asset and is another stepping stone towards achieving an international mindset.\"\\n'"
      ]
     },
     "execution_count": 21,
     "metadata": {},
     "output_type": "execute_result"
    }
   ],
   "source": [
    "all_posts[0]"
   ]
  },
  {
   "cell_type": "code",
   "execution_count": 22,
   "id": "a4d4d68f",
   "metadata": {},
   "outputs": [],
   "source": [
    "all_posts.append(cleanSentence(Divy_Bramhecha))\n",
    "all_posts.append(cleanSentence(Valentin_Pyatev))\n",
    "all_posts.append(cleanSentence(Sanayapoem))"
   ]
  },
  {
   "cell_type": "code",
   "execution_count": 23,
   "id": "69b093d9",
   "metadata": {},
   "outputs": [
    {
     "data": {
      "text/html": [
       "<div>\n",
       "<style scoped>\n",
       "    .dataframe tbody tr th:only-of-type {\n",
       "        vertical-align: middle;\n",
       "    }\n",
       "\n",
       "    .dataframe tbody tr th {\n",
       "        vertical-align: top;\n",
       "    }\n",
       "\n",
       "    .dataframe thead th {\n",
       "        text-align: right;\n",
       "    }\n",
       "</style>\n",
       "<table border=\"1\" class=\"dataframe\">\n",
       "  <thead>\n",
       "    <tr style=\"text-align: right;\">\n",
       "      <th></th>\n",
       "      <th>posts</th>\n",
       "    </tr>\n",
       "  </thead>\n",
       "  <tbody>\n",
       "    <tr>\n",
       "      <th>0</th>\n",
       "      <td>hope enjoy mila kunis birthday tommorow decide...</td>\n",
       "    </tr>\n",
       "    <tr>\n",
       "      <th>1</th>\n",
       "      <td>walking among sharks big family even count cra...</td>\n",
       "    </tr>\n",
       "    <tr>\n",
       "      <th>2</th>\n",
       "      <td>diya making hand painted diya indian festival ...</td>\n",
       "    </tr>\n",
       "    <tr>\n",
       "      <th>3</th>\n",
       "      <td>graffiti cas one best experience till date ib ...</td>\n",
       "    </tr>\n",
       "    <tr>\n",
       "      <th>4</th>\n",
       "      <td>maybe somethings meant maybe people worth tee ...</td>\n",
       "    </tr>\n",
       "    <tr>\n",
       "      <th>5</th>\n",
       "      <td>photograph river 1038 miles north western us r...</td>\n",
       "    </tr>\n",
       "    <tr>\n",
       "      <th>6</th>\n",
       "      <td>aim particular experience basically spread awa...</td>\n",
       "    </tr>\n",
       "    <tr>\n",
       "      <th>7</th>\n",
       "      <td>cas reflection thailand trip went thailand 28 ...</td>\n",
       "    </tr>\n",
       "    <tr>\n",
       "      <th>8</th>\n",
       "      <td>february 8 2018 cas period house making compet...</td>\n",
       "    </tr>\n",
       "    <tr>\n",
       "      <th>9</th>\n",
       "      <td>idea learn new things receive new experience m...</td>\n",
       "    </tr>\n",
       "    <tr>\n",
       "      <th>10</th>\n",
       "      <td>life meant amazing friends great adventures an...</td>\n",
       "    </tr>\n",
       "    <tr>\n",
       "      <th>11</th>\n",
       "      <td>crazy together lift like tomorrow baddamm boom...</td>\n",
       "    </tr>\n",
       "    <tr>\n",
       "      <th>12</th>\n",
       "      <td>enjoyed graffiti boosted spatial skills also d...</td>\n",
       "    </tr>\n",
       "    <tr>\n",
       "      <th>13</th>\n",
       "      <td>dont think anyone would able live 300 years ta...</td>\n",
       "    </tr>\n",
       "    <tr>\n",
       "      <th>14</th>\n",
       "      <td>words britons heed immediately despite state s...</td>\n",
       "    </tr>\n",
       "    <tr>\n",
       "      <th>15</th>\n",
       "      <td>act like care tell share carve stories arm doc...</td>\n",
       "    </tr>\n",
       "  </tbody>\n",
       "</table>\n",
       "</div>"
      ],
      "text/plain": [
       "                                                posts\n",
       "0   hope enjoy mila kunis birthday tommorow decide...\n",
       "1   walking among sharks big family even count cra...\n",
       "2   diya making hand painted diya indian festival ...\n",
       "3   graffiti cas one best experience till date ib ...\n",
       "4   maybe somethings meant maybe people worth tee ...\n",
       "5   photograph river 1038 miles north western us r...\n",
       "6   aim particular experience basically spread awa...\n",
       "7   cas reflection thailand trip went thailand 28 ...\n",
       "8   february 8 2018 cas period house making compet...\n",
       "9   idea learn new things receive new experience m...\n",
       "10  life meant amazing friends great adventures an...\n",
       "11  crazy together lift like tomorrow baddamm boom...\n",
       "12  enjoyed graffiti boosted spatial skills also d...\n",
       "13  dont think anyone would able live 300 years ta...\n",
       "14  words britons heed immediately despite state s...\n",
       "15  act like care tell share carve stories arm doc..."
      ]
     },
     "execution_count": 23,
     "metadata": {},
     "output_type": "execute_result"
    }
   ],
   "source": [
    "test_data = pd.DataFrame(all_posts, columns = ['posts'])\n",
    "test_data['posts'] = test_data['posts'].apply(cleanSentence)\n",
    "test_data"
   ]
  },
  {
   "cell_type": "code",
   "execution_count": 24,
   "id": "c96cb556",
   "metadata": {},
   "outputs": [
    {
     "data": {
      "text/html": [
       "<div>\n",
       "<style scoped>\n",
       "    .dataframe tbody tr th:only-of-type {\n",
       "        vertical-align: middle;\n",
       "    }\n",
       "\n",
       "    .dataframe tbody tr th {\n",
       "        vertical-align: top;\n",
       "    }\n",
       "\n",
       "    .dataframe thead th {\n",
       "        text-align: right;\n",
       "    }\n",
       "</style>\n",
       "<table border=\"1\" class=\"dataframe\">\n",
       "  <thead>\n",
       "    <tr style=\"text-align: right;\">\n",
       "      <th></th>\n",
       "      <th>posts</th>\n",
       "      <th>ENFJ</th>\n",
       "      <th>ENFP</th>\n",
       "      <th>ENTJ</th>\n",
       "      <th>ENTP</th>\n",
       "      <th>ESFJ</th>\n",
       "      <th>ESFP</th>\n",
       "      <th>ESTJ</th>\n",
       "      <th>ESTP</th>\n",
       "      <th>INFJ</th>\n",
       "      <th>INFP</th>\n",
       "      <th>INTJ</th>\n",
       "      <th>INTP</th>\n",
       "      <th>ISFJ</th>\n",
       "      <th>ISFP</th>\n",
       "      <th>ISTJ</th>\n",
       "      <th>ISTP</th>\n",
       "    </tr>\n",
       "  </thead>\n",
       "  <tbody>\n",
       "    <tr>\n",
       "      <th>0</th>\n",
       "      <td>hope enjoy mila kunis birthday tommorow decide...</td>\n",
       "      <td>0</td>\n",
       "      <td>0</td>\n",
       "      <td>0</td>\n",
       "      <td>0</td>\n",
       "      <td>0</td>\n",
       "      <td>0</td>\n",
       "      <td>0</td>\n",
       "      <td>0</td>\n",
       "      <td>0</td>\n",
       "      <td>0</td>\n",
       "      <td>0</td>\n",
       "      <td>0</td>\n",
       "      <td>0</td>\n",
       "      <td>0</td>\n",
       "      <td>0</td>\n",
       "      <td>0</td>\n",
       "    </tr>\n",
       "    <tr>\n",
       "      <th>1</th>\n",
       "      <td>walking among sharks big family even count cra...</td>\n",
       "      <td>0</td>\n",
       "      <td>0</td>\n",
       "      <td>0</td>\n",
       "      <td>0</td>\n",
       "      <td>0</td>\n",
       "      <td>0</td>\n",
       "      <td>0</td>\n",
       "      <td>0</td>\n",
       "      <td>0</td>\n",
       "      <td>0</td>\n",
       "      <td>0</td>\n",
       "      <td>0</td>\n",
       "      <td>0</td>\n",
       "      <td>0</td>\n",
       "      <td>0</td>\n",
       "      <td>0</td>\n",
       "    </tr>\n",
       "    <tr>\n",
       "      <th>2</th>\n",
       "      <td>diya making hand painted diya indian festival ...</td>\n",
       "      <td>0</td>\n",
       "      <td>0</td>\n",
       "      <td>0</td>\n",
       "      <td>0</td>\n",
       "      <td>0</td>\n",
       "      <td>0</td>\n",
       "      <td>0</td>\n",
       "      <td>0</td>\n",
       "      <td>0</td>\n",
       "      <td>0</td>\n",
       "      <td>0</td>\n",
       "      <td>0</td>\n",
       "      <td>0</td>\n",
       "      <td>0</td>\n",
       "      <td>0</td>\n",
       "      <td>0</td>\n",
       "    </tr>\n",
       "    <tr>\n",
       "      <th>3</th>\n",
       "      <td>graffiti cas one best experience till date ib ...</td>\n",
       "      <td>0</td>\n",
       "      <td>0</td>\n",
       "      <td>0</td>\n",
       "      <td>0</td>\n",
       "      <td>0</td>\n",
       "      <td>0</td>\n",
       "      <td>0</td>\n",
       "      <td>0</td>\n",
       "      <td>0</td>\n",
       "      <td>0</td>\n",
       "      <td>0</td>\n",
       "      <td>0</td>\n",
       "      <td>0</td>\n",
       "      <td>0</td>\n",
       "      <td>0</td>\n",
       "      <td>0</td>\n",
       "    </tr>\n",
       "    <tr>\n",
       "      <th>4</th>\n",
       "      <td>maybe somethings meant maybe people worth tee ...</td>\n",
       "      <td>0</td>\n",
       "      <td>0</td>\n",
       "      <td>0</td>\n",
       "      <td>0</td>\n",
       "      <td>0</td>\n",
       "      <td>0</td>\n",
       "      <td>0</td>\n",
       "      <td>0</td>\n",
       "      <td>0</td>\n",
       "      <td>0</td>\n",
       "      <td>0</td>\n",
       "      <td>0</td>\n",
       "      <td>0</td>\n",
       "      <td>0</td>\n",
       "      <td>0</td>\n",
       "      <td>0</td>\n",
       "    </tr>\n",
       "    <tr>\n",
       "      <th>5</th>\n",
       "      <td>photograph river 1038 miles north western us r...</td>\n",
       "      <td>0</td>\n",
       "      <td>0</td>\n",
       "      <td>0</td>\n",
       "      <td>0</td>\n",
       "      <td>0</td>\n",
       "      <td>0</td>\n",
       "      <td>0</td>\n",
       "      <td>0</td>\n",
       "      <td>0</td>\n",
       "      <td>0</td>\n",
       "      <td>0</td>\n",
       "      <td>0</td>\n",
       "      <td>0</td>\n",
       "      <td>0</td>\n",
       "      <td>0</td>\n",
       "      <td>0</td>\n",
       "    </tr>\n",
       "    <tr>\n",
       "      <th>6</th>\n",
       "      <td>aim particular experience basically spread awa...</td>\n",
       "      <td>0</td>\n",
       "      <td>0</td>\n",
       "      <td>0</td>\n",
       "      <td>0</td>\n",
       "      <td>0</td>\n",
       "      <td>0</td>\n",
       "      <td>0</td>\n",
       "      <td>0</td>\n",
       "      <td>0</td>\n",
       "      <td>0</td>\n",
       "      <td>0</td>\n",
       "      <td>0</td>\n",
       "      <td>0</td>\n",
       "      <td>0</td>\n",
       "      <td>0</td>\n",
       "      <td>0</td>\n",
       "    </tr>\n",
       "    <tr>\n",
       "      <th>7</th>\n",
       "      <td>cas reflection thailand trip went thailand 28 ...</td>\n",
       "      <td>0</td>\n",
       "      <td>0</td>\n",
       "      <td>0</td>\n",
       "      <td>0</td>\n",
       "      <td>0</td>\n",
       "      <td>0</td>\n",
       "      <td>0</td>\n",
       "      <td>0</td>\n",
       "      <td>0</td>\n",
       "      <td>0</td>\n",
       "      <td>0</td>\n",
       "      <td>0</td>\n",
       "      <td>0</td>\n",
       "      <td>0</td>\n",
       "      <td>0</td>\n",
       "      <td>0</td>\n",
       "    </tr>\n",
       "    <tr>\n",
       "      <th>8</th>\n",
       "      <td>february 8 2018 cas period house making compet...</td>\n",
       "      <td>0</td>\n",
       "      <td>0</td>\n",
       "      <td>0</td>\n",
       "      <td>0</td>\n",
       "      <td>0</td>\n",
       "      <td>0</td>\n",
       "      <td>0</td>\n",
       "      <td>0</td>\n",
       "      <td>0</td>\n",
       "      <td>0</td>\n",
       "      <td>0</td>\n",
       "      <td>0</td>\n",
       "      <td>0</td>\n",
       "      <td>0</td>\n",
       "      <td>0</td>\n",
       "      <td>0</td>\n",
       "    </tr>\n",
       "    <tr>\n",
       "      <th>9</th>\n",
       "      <td>idea learn new things receive new experience m...</td>\n",
       "      <td>0</td>\n",
       "      <td>0</td>\n",
       "      <td>0</td>\n",
       "      <td>0</td>\n",
       "      <td>0</td>\n",
       "      <td>0</td>\n",
       "      <td>0</td>\n",
       "      <td>0</td>\n",
       "      <td>0</td>\n",
       "      <td>0</td>\n",
       "      <td>0</td>\n",
       "      <td>0</td>\n",
       "      <td>0</td>\n",
       "      <td>0</td>\n",
       "      <td>0</td>\n",
       "      <td>0</td>\n",
       "    </tr>\n",
       "    <tr>\n",
       "      <th>10</th>\n",
       "      <td>life meant amazing friends great adventures an...</td>\n",
       "      <td>0</td>\n",
       "      <td>0</td>\n",
       "      <td>0</td>\n",
       "      <td>0</td>\n",
       "      <td>0</td>\n",
       "      <td>0</td>\n",
       "      <td>0</td>\n",
       "      <td>0</td>\n",
       "      <td>0</td>\n",
       "      <td>0</td>\n",
       "      <td>0</td>\n",
       "      <td>0</td>\n",
       "      <td>0</td>\n",
       "      <td>0</td>\n",
       "      <td>0</td>\n",
       "      <td>0</td>\n",
       "    </tr>\n",
       "    <tr>\n",
       "      <th>11</th>\n",
       "      <td>crazy together lift like tomorrow baddamm boom...</td>\n",
       "      <td>0</td>\n",
       "      <td>0</td>\n",
       "      <td>0</td>\n",
       "      <td>0</td>\n",
       "      <td>0</td>\n",
       "      <td>0</td>\n",
       "      <td>0</td>\n",
       "      <td>0</td>\n",
       "      <td>0</td>\n",
       "      <td>0</td>\n",
       "      <td>0</td>\n",
       "      <td>0</td>\n",
       "      <td>0</td>\n",
       "      <td>0</td>\n",
       "      <td>0</td>\n",
       "      <td>0</td>\n",
       "    </tr>\n",
       "    <tr>\n",
       "      <th>12</th>\n",
       "      <td>enjoyed graffiti boosted spatial skills also d...</td>\n",
       "      <td>0</td>\n",
       "      <td>0</td>\n",
       "      <td>0</td>\n",
       "      <td>0</td>\n",
       "      <td>0</td>\n",
       "      <td>0</td>\n",
       "      <td>0</td>\n",
       "      <td>0</td>\n",
       "      <td>0</td>\n",
       "      <td>0</td>\n",
       "      <td>0</td>\n",
       "      <td>0</td>\n",
       "      <td>0</td>\n",
       "      <td>0</td>\n",
       "      <td>0</td>\n",
       "      <td>0</td>\n",
       "    </tr>\n",
       "    <tr>\n",
       "      <th>13</th>\n",
       "      <td>dont think anyone would able live 300 years ta...</td>\n",
       "      <td>0</td>\n",
       "      <td>0</td>\n",
       "      <td>0</td>\n",
       "      <td>0</td>\n",
       "      <td>0</td>\n",
       "      <td>0</td>\n",
       "      <td>0</td>\n",
       "      <td>0</td>\n",
       "      <td>0</td>\n",
       "      <td>0</td>\n",
       "      <td>0</td>\n",
       "      <td>0</td>\n",
       "      <td>0</td>\n",
       "      <td>0</td>\n",
       "      <td>0</td>\n",
       "      <td>0</td>\n",
       "    </tr>\n",
       "    <tr>\n",
       "      <th>14</th>\n",
       "      <td>words britons heed immediately despite state s...</td>\n",
       "      <td>0</td>\n",
       "      <td>0</td>\n",
       "      <td>0</td>\n",
       "      <td>0</td>\n",
       "      <td>0</td>\n",
       "      <td>0</td>\n",
       "      <td>0</td>\n",
       "      <td>0</td>\n",
       "      <td>0</td>\n",
       "      <td>0</td>\n",
       "      <td>0</td>\n",
       "      <td>0</td>\n",
       "      <td>0</td>\n",
       "      <td>0</td>\n",
       "      <td>0</td>\n",
       "      <td>0</td>\n",
       "    </tr>\n",
       "    <tr>\n",
       "      <th>15</th>\n",
       "      <td>act like care tell share carve stories arm doc...</td>\n",
       "      <td>0</td>\n",
       "      <td>0</td>\n",
       "      <td>0</td>\n",
       "      <td>0</td>\n",
       "      <td>0</td>\n",
       "      <td>0</td>\n",
       "      <td>0</td>\n",
       "      <td>0</td>\n",
       "      <td>0</td>\n",
       "      <td>0</td>\n",
       "      <td>0</td>\n",
       "      <td>0</td>\n",
       "      <td>0</td>\n",
       "      <td>0</td>\n",
       "      <td>0</td>\n",
       "      <td>0</td>\n",
       "    </tr>\n",
       "  </tbody>\n",
       "</table>\n",
       "</div>"
      ],
      "text/plain": [
       "                                                posts  ENFJ  ENFP  ENTJ  ENTP  \\\n",
       "0   hope enjoy mila kunis birthday tommorow decide...     0     0     0     0   \n",
       "1   walking among sharks big family even count cra...     0     0     0     0   \n",
       "2   diya making hand painted diya indian festival ...     0     0     0     0   \n",
       "3   graffiti cas one best experience till date ib ...     0     0     0     0   \n",
       "4   maybe somethings meant maybe people worth tee ...     0     0     0     0   \n",
       "5   photograph river 1038 miles north western us r...     0     0     0     0   \n",
       "6   aim particular experience basically spread awa...     0     0     0     0   \n",
       "7   cas reflection thailand trip went thailand 28 ...     0     0     0     0   \n",
       "8   february 8 2018 cas period house making compet...     0     0     0     0   \n",
       "9   idea learn new things receive new experience m...     0     0     0     0   \n",
       "10  life meant amazing friends great adventures an...     0     0     0     0   \n",
       "11  crazy together lift like tomorrow baddamm boom...     0     0     0     0   \n",
       "12  enjoyed graffiti boosted spatial skills also d...     0     0     0     0   \n",
       "13  dont think anyone would able live 300 years ta...     0     0     0     0   \n",
       "14  words britons heed immediately despite state s...     0     0     0     0   \n",
       "15  act like care tell share carve stories arm doc...     0     0     0     0   \n",
       "\n",
       "    ESFJ  ESFP  ESTJ  ESTP  INFJ  INFP  INTJ  INTP  ISFJ  ISFP  ISTJ  ISTP  \n",
       "0      0     0     0     0     0     0     0     0     0     0     0     0  \n",
       "1      0     0     0     0     0     0     0     0     0     0     0     0  \n",
       "2      0     0     0     0     0     0     0     0     0     0     0     0  \n",
       "3      0     0     0     0     0     0     0     0     0     0     0     0  \n",
       "4      0     0     0     0     0     0     0     0     0     0     0     0  \n",
       "5      0     0     0     0     0     0     0     0     0     0     0     0  \n",
       "6      0     0     0     0     0     0     0     0     0     0     0     0  \n",
       "7      0     0     0     0     0     0     0     0     0     0     0     0  \n",
       "8      0     0     0     0     0     0     0     0     0     0     0     0  \n",
       "9      0     0     0     0     0     0     0     0     0     0     0     0  \n",
       "10     0     0     0     0     0     0     0     0     0     0     0     0  \n",
       "11     0     0     0     0     0     0     0     0     0     0     0     0  \n",
       "12     0     0     0     0     0     0     0     0     0     0     0     0  \n",
       "13     0     0     0     0     0     0     0     0     0     0     0     0  \n",
       "14     0     0     0     0     0     0     0     0     0     0     0     0  \n",
       "15     0     0     0     0     0     0     0     0     0     0     0     0  "
      ]
     },
     "execution_count": 24,
     "metadata": {},
     "output_type": "execute_result"
    }
   ],
   "source": [
    "test_data = pd.concat([test_data, pd.DataFrame(columns=columns)], sort=False)\n",
    "test_data.loc[:, columns] = 0\n",
    "test_data"
   ]
  },
  {
   "cell_type": "code",
   "execution_count": 87,
   "id": "a7c3cbe4",
   "metadata": {},
   "outputs": [
    {
     "data": {
      "text/plain": [
       "['ENFP',\n",
       " 'ENFP',\n",
       " 'ENFP',\n",
       " 'ESFP',\n",
       " 'ENFP',\n",
       " 'ENTP',\n",
       " 'ESFJ',\n",
       " 'INFP',\n",
       " 'ESFP',\n",
       " 'ISFJ',\n",
       " 'ESFP',\n",
       " 'ENFP',\n",
       " 'ISTJ']"
      ]
     },
     "execution_count": 87,
     "metadata": {},
     "output_type": "execute_result"
    }
   ],
   "source": [
    "test_labels = open(\"Test_file/MBTI.txt\")\n",
    "test_labels = test_labels.read().splitlines()\n",
    "test_labels"
   ]
  },
  {
   "cell_type": "markdown",
   "id": "924a9331",
   "metadata": {},
   "source": [
    "# **EDA - Training Dataset**   "
   ]
  },
  {
   "cell_type": "markdown",
   "id": "448b0ff5",
   "metadata": {},
   "source": [
    "## **Distribution of Personabilities**"
   ]
  },
  {
   "cell_type": "code",
   "execution_count": 26,
   "id": "9861e8a2",
   "metadata": {},
   "outputs": [
    {
     "data": {
      "text/plain": [
       "INFP    1832\n",
       "INFJ    1470\n",
       "INTP    1304\n",
       "INTJ    1091\n",
       "ENTP     685\n",
       "ENFP     675\n",
       "ISTP     337\n",
       "ISFP     271\n",
       "ENTJ     231\n",
       "ISTJ     205\n",
       "ENFJ     190\n",
       "ISFJ     166\n",
       "ESTP      89\n",
       "ESFP      48\n",
       "ESFJ      42\n",
       "ESTJ      39\n",
       "Name: type, dtype: int64"
      ]
     },
     "execution_count": 26,
     "metadata": {},
     "output_type": "execute_result"
    }
   ],
   "source": [
    "cnt_type = train_data['type'].value_counts()\n",
    "cnt_type"
   ]
  },
  {
   "cell_type": "code",
   "execution_count": 27,
   "id": "0320a623",
   "metadata": {},
   "outputs": [
    {
     "data": {
      "image/png": "[encoded data removed]",
      "text/plain": [
       "<Figure size 864x288 with 1 Axes>"
      ]
     },
     "metadata": {
      "needs_background": "light"
     },
     "output_type": "display_data"
    }
   ],
   "source": [
    "plt.figure(figsize=(12,4))\n",
    "plt.bar(cnt_type.index, cnt_type.values, alpha=0.8)\n",
    "plt.ylabel('Number of Occurrences', fontsize=12)\n",
    "plt.xlabel('Types', fontsize=12)\n",
    "plt.savefig('DistributionofPersonabilities.png')\n",
    "plt.show()"
   ]
  },
  {
   "cell_type": "markdown",
   "id": "49529a19",
   "metadata": {},
   "source": [
    "## **Distribution of Words Number**"
   ]
  },
  {
   "cell_type": "code",
   "execution_count": 28,
   "id": "9a8b4068",
   "metadata": {},
   "outputs": [],
   "source": [
    "CountL = train_data['posts'].apply(lambda x: len(x.split()))"
   ]
  },
  {
   "cell_type": "code",
   "execution_count": 29,
   "id": "592c2c3c",
   "metadata": {},
   "outputs": [
    {
     "data": {
      "text/plain": [
       "(3, 927)"
      ]
     },
     "execution_count": 29,
     "metadata": {},
     "output_type": "execute_result"
    }
   ],
   "source": [
    "min(CountL),max(CountL)"
   ]
  },
  {
   "cell_type": "code",
   "execution_count": 30,
   "id": "44077a66",
   "metadata": {},
   "outputs": [
    {
     "data": {
      "image/png": "[encoded data removed]",
      "text/plain": [
       "<Figure size 864x432 with 1 Axes>"
      ]
     },
     "metadata": {
      "needs_background": "light"
     },
     "output_type": "display_data"
    }
   ],
   "source": [
    "plt.figure(figsize=(12, 6))\n",
    "plt.hist(CountL,100,color = 'green',alpha = 0.7)\n",
    "plt.xlabel('Words No.')\n",
    "plt.ylabel('Count')\n",
    "plt.title('Distribution of Words No.')\n",
    "plt.savefig('DistWordsNo.png')"
   ]
  },
  {
   "cell_type": "markdown",
   "id": "3d9d931a",
   "metadata": {},
   "source": [
    "### **BertTokenizer**\n",
    "\n",
    "We need to convert the raw text into a list of tokens."
   ]
  },
  {
   "cell_type": "code",
   "execution_count": 31,
   "id": "838415c9",
   "metadata": {},
   "outputs": [
    {
     "name": "stderr",
     "output_type": "stream",
     "text": [
      "2022-11-13 19:20:53.860011: I tensorflow/core/platform/cpu_feature_guard.cc:193] This TensorFlow binary is optimized with oneAPI Deep Neural Network Library (oneDNN) to use the following CPU instructions in performance-critical operations:  AVX2 AVX512F AVX512_VNNI FMA\n",
      "To enable them in other operations, rebuild TensorFlow with the appropriate compiler flags.\n",
      "2022-11-13 19:20:56.909344: I tensorflow/core/util/util.cc:169] oneDNN custom operations are on. You may see slightly different numerical results due to floating-point round-off errors from different computation orders. To turn them off, set the environment variable `TF_ENABLE_ONEDNN_OPTS=0`.\n",
      "2022-11-13 19:20:57.422378: E tensorflow/stream_executor/cuda/cuda_blas.cc:2981] Unable to register cuBLAS factory: Attempting to register factory for plugin cuBLAS when one has already been registered\n",
      "2022-11-13 19:21:15.227362: W tensorflow/stream_executor/platform/default/dso_loader.cc:64] Could not load dynamic library 'libnvinfer.so.7'; dlerror: libnvinfer.so.7: cannot open shared object file: No such file or directory; LD_LIBRARY_PATH: /usr/local/cuda/lib64:/usr/local/lib64:/usr/mpi/gcc/openmpi-4.1.2rc2/lib64:/opt/rh/gcc-toolset-9/root/usr/lib64:/opt/rh/gcc-toolset-9/root/usr/lib:/opt/rh/gcc-toolset-9/root/usr/lib64/dyninst:/opt/rh/gcc-toolset-9/root/usr/lib/dyninst:/opt/rh/gcc-toolset-9/root/usr/lib64:/opt/rh/gcc-toolset-9/root/usr/lib:/.singularity.d/libs\n",
      "2022-11-13 19:21:15.227816: W tensorflow/stream_executor/platform/default/dso_loader.cc:64] Could not load dynamic library 'libnvinfer_plugin.so.7'; dlerror: libnvinfer_plugin.so.7: cannot open shared object file: No such file or directory; LD_LIBRARY_PATH: /usr/local/cuda/lib64:/usr/local/lib64:/usr/mpi/gcc/openmpi-4.1.2rc2/lib64:/opt/rh/gcc-toolset-9/root/usr/lib64:/opt/rh/gcc-toolset-9/root/usr/lib:/opt/rh/gcc-toolset-9/root/usr/lib64/dyninst:/opt/rh/gcc-toolset-9/root/usr/lib/dyninst:/opt/rh/gcc-toolset-9/root/usr/lib64:/opt/rh/gcc-toolset-9/root/usr/lib:/.singularity.d/libs\n",
      "2022-11-13 19:21:15.227825: W tensorflow/compiler/tf2tensorrt/utils/py_utils.cc:38] TF-TRT Warning: Cannot dlopen some TensorRT libraries. If you would like to use Nvidia GPU with TensorRT, please make sure the missing libraries mentioned above are installed properly.\n"
     ]
    }
   ],
   "source": [
    "from transformers import BertTokenizerFast as BertTokenizer, BertModel,AdamW, get_linear_schedule_with_warmup,logging"
   ]
  },
  {
   "cell_type": "code",
   "execution_count": 32,
   "id": "e7c87601",
   "metadata": {},
   "outputs": [],
   "source": [
    "BERT_MODEL_NAME = 'bert-base-cased'\n",
    "tokenizer = BertTokenizer.from_pretrained(BERT_MODEL_NAME)"
   ]
  },
  {
   "cell_type": "code",
   "execution_count": 33,
   "id": "ee22f8b9",
   "metadata": {},
   "outputs": [],
   "source": [
    "train_data = train_data.drop(['type', 'length'], axis=1)"
   ]
  },
  {
   "cell_type": "code",
   "execution_count": 34,
   "id": "f4e85f28",
   "metadata": {},
   "outputs": [],
   "source": [
    "train_df, val_df = train_test_split(train_data, test_size=0.2)\n",
    "test_df = test_data"
   ]
  },
  {
   "cell_type": "code",
   "execution_count": 35,
   "id": "da8e0778",
   "metadata": {},
   "outputs": [
    {
     "data": {
      "text/plain": [
       "((6940, 17), (1735, 17), (16, 17))"
      ]
     },
     "execution_count": 35,
     "metadata": {},
     "output_type": "execute_result"
    }
   ],
   "source": [
    "train_df.shape, val_df.shape, test_df.shape"
   ]
  },
  {
   "cell_type": "code",
   "execution_count": 36,
   "id": "9e3aef10",
   "metadata": {},
   "outputs": [],
   "source": [
    "MAX_TOKEN_COUNT = 512"
   ]
  },
  {
   "cell_type": "code",
   "execution_count": 37,
   "id": "d717c3d3",
   "metadata": {},
   "outputs": [],
   "source": [
    "logging.set_verbosity_error()\n",
    "bert_model = BertModel.from_pretrained(BERT_MODEL_NAME, return_dict=True)"
   ]
  },
  {
   "cell_type": "code",
   "execution_count": 38,
   "id": "bd9cda72",
   "metadata": {},
   "outputs": [],
   "source": [
    "class PersonabilityDataset(Dataset):\n",
    "    \n",
    "    def __init__(\n",
    "        self, \n",
    "        data: pd.DataFrame, \n",
    "        tokenizer: BertTokenizer, \n",
    "        max_token_len: int = 512\n",
    "    ):\n",
    "        self.tokenizer = tokenizer\n",
    "        self.data = data\n",
    "        self.max_token_len = max_token_len\n",
    "    \n",
    "    def __len__(self):\n",
    "        return len(self.data)\n",
    "\n",
    "    def __getitem__(self, index: int):\n",
    "        data_row = self.data.iloc[index]\n",
    "        \n",
    "        posts = data_row.posts\n",
    "        labels = data_row[columns]\n",
    "        \n",
    "        encoding = self.tokenizer.encode_plus(\n",
    "            posts,\n",
    "            # add_special_tokens： Whether or not to encode the sequences with the special tokens relative to their model\n",
    "            add_special_tokens=True,\n",
    "            # max_length： Controls the maximum length to use by one of the truncation/padding parameters\n",
    "            max_length=self.max_token_len,\n",
    "            # Whether to return token type IDs\n",
    "            return_token_type_ids=False, \n",
    "            # Activates and controls padding\n",
    "            padding=\"max_length\", \n",
    "            # Activates and controls truncation\n",
    "            truncation=True, \n",
    "            # Whether to return the attention mask.\n",
    "            return_attention_mask=True, \n",
    "            # Return PyTorch torch.Tensor objects.\n",
    "            return_tensors='pt', \n",
    "        )\n",
    "        \n",
    "        return dict(\n",
    "            posts=posts,\n",
    "            input_ids=encoding[\"input_ids\"].flatten(),\n",
    "            attention_mask=encoding[\"attention_mask\"].flatten(),\n",
    "            labels=torch.FloatTensor(labels)\n",
    "        )"
   ]
  },
  {
   "cell_type": "code",
   "execution_count": 39,
   "id": "2ba28e5e",
   "metadata": {},
   "outputs": [],
   "source": [
    "class PersonabilityDataModule(pl.LightningDataModule):\n",
    "    \n",
    "    def __init__(self, train_df, val_df, test_df, tokenizer, batch_size, max_token_len):\n",
    "        super().__init__()\n",
    "        self.batch_size = batch_size\n",
    "        self.train_df = train_df\n",
    "        self.val_df = val_df\n",
    "        self.test_df = test_df\n",
    "        self.tokenizer = tokenizer\n",
    "        self.max_token_len = max_token_len\n",
    "\n",
    "    def setup(self, stage=None):\n",
    "        self.train_dataset = PersonabilityDataset(\n",
    "            self.train_df,\n",
    "            self.tokenizer,\n",
    "            self.max_token_len\n",
    "        )\n",
    "\n",
    "        self.val_dataset = PersonabilityDataset(\n",
    "            self.val_df,\n",
    "            self.tokenizer,\n",
    "            self.max_token_len\n",
    "        )\n",
    "\n",
    "        self.test_dataset = PersonabilityDataset(\n",
    "            self.test_df,\n",
    "            self.tokenizer,\n",
    "            self.max_token_len\n",
    "        )\n",
    "\n",
    "    def train_dataloader(self):\n",
    "        return DataLoader(\n",
    "            self.train_dataset,\n",
    "            batch_size=self.batch_size,\n",
    "            shuffle=True,\n",
    "            num_workers=10\n",
    "        )\n",
    "\n",
    "    def val_dataloader(self):\n",
    "        return DataLoader(\n",
    "            self.val_dataset,\n",
    "            batch_size=self.batch_size,\n",
    "            num_workers=10\n",
    "        )\n",
    "\n",
    "    def test_dataloader(self):\n",
    "        return DataLoader(\n",
    "            self.test_dataset,\n",
    "            batch_size=self.batch_size,\n",
    "            num_workers=10\n",
    "        )"
   ]
  },
  {
   "cell_type": "code",
   "execution_count": 40,
   "id": "942b9e52",
   "metadata": {},
   "outputs": [],
   "source": [
    "N_EPOCHS = 10\n",
    "BATCH_SIZE = 16"
   ]
  },
  {
   "cell_type": "code",
   "execution_count": 41,
   "id": "95892f35",
   "metadata": {},
   "outputs": [],
   "source": [
    "data_module = PersonabilityDataModule(\n",
    "    train_df,\n",
    "    val_df,\n",
    "    test_df,\n",
    "    tokenizer,\n",
    "    batch_size=BATCH_SIZE,\n",
    "    max_token_len=MAX_TOKEN_COUNT\n",
    ")"
   ]
  },
  {
   "cell_type": "markdown",
   "id": "7d4bdcf8",
   "metadata": {},
   "source": [
    "# **Model**"
   ]
  },
  {
   "cell_type": "code",
   "execution_count": 42,
   "id": "0adde167",
   "metadata": {},
   "outputs": [],
   "source": [
    "class PersonabilityDetector(pl.LightningModule):\n",
    "    \n",
    "    def __init__(self, n_classes: int, n_training_steps=None, n_warmup_steps=None):\n",
    "        super().__init__()\n",
    "        self.bert = BertModel.from_pretrained(BERT_MODEL_NAME, return_dict=True)\n",
    "        self.classifier = nn.Linear(self.bert.config.hidden_size, n_classes)\n",
    "        self.n_training_steps = n_training_steps\n",
    "        self.n_warmup_steps = n_warmup_steps\n",
    "        self.criterion = nn.BCELoss()  \n",
    "\n",
    "    def forward(self, input_ids, attention_mask, labels=None):\n",
    "        output = self.bert(input_ids, attention_mask=attention_mask)\n",
    "        output = self.classifier(output.pooler_output)\n",
    "        output = torch.sigmoid(output)    \n",
    "        loss = 0\n",
    "        if labels is not None:\n",
    "            loss = self.criterion(output, labels)\n",
    "        return loss, output\n",
    "\n",
    "    def training_step(self, batch, batch_idx):\n",
    "        input_ids = batch[\"input_ids\"]\n",
    "        attention_mask = batch[\"attention_mask\"]\n",
    "        labels = batch[\"labels\"]\n",
    "        loss, outputs = self(input_ids, attention_mask, labels)\n",
    "        self.log(\"train_loss\", loss, prog_bar=True, logger=True)\n",
    "        return {\"loss\": loss, \"predictions\": outputs, \"labels\": labels}\n",
    "\n",
    "    def validation_step(self, batch, batch_idx):\n",
    "        input_ids = batch[\"input_ids\"]\n",
    "        attention_mask = batch[\"attention_mask\"]\n",
    "        labels = batch[\"labels\"]\n",
    "        loss, outputs = self(input_ids, attention_mask, labels)\n",
    "        self.log(\"val_loss\", loss, prog_bar=True, logger=True)\n",
    "        return loss\n",
    "\n",
    "    def test_step(self, batch, batch_idx):\n",
    "        input_ids = batch[\"input_ids\"]\n",
    "        attention_mask = batch[\"attention_mask\"]\n",
    "        labels = batch[\"labels\"]\n",
    "        loss, outputs = self(input_ids, attention_mask, labels)\n",
    "        self.log(\"test_loss\", loss, prog_bar=True, logger=True)\n",
    "        return loss\n",
    "\n",
    "    def training_epoch_end(self, outputs):\n",
    "        labels = []\n",
    "        predictions = []\n",
    "        for output in outputs:\n",
    "            for out_labels in output[\"labels\"].detach().cpu():\n",
    "                labels.append(out_labels)\n",
    "            for out_predictions in output[\"predictions\"].detach().cpu():\n",
    "                predictions.append(out_predictions)\n",
    "        labels = torch.stack(labels).int()\n",
    "        predictions = torch.stack(predictions)\n",
    "\n",
    "    def configure_optimizers(self):\n",
    "        optimizer = torch.optim.AdamW(self.parameters(), lr=2e-5)\n",
    "\n",
    "        scheduler = get_linear_schedule_with_warmup(\n",
    "            optimizer,\n",
    "            num_warmup_steps=self.n_warmup_steps,\n",
    "            num_training_steps=self.n_training_steps\n",
    "        )\n",
    "\n",
    "        return dict(\n",
    "            optimizer=optimizer,\n",
    "            lr_scheduler=dict(\n",
    "                scheduler=scheduler,\n",
    "                interval='step'\n",
    "            )\n",
    "        )"
   ]
  },
  {
   "cell_type": "code",
   "execution_count": 43,
   "id": "5b7e148e",
   "metadata": {},
   "outputs": [],
   "source": [
    "if os.path.exists('/scratch/project_2006400/Introduction_to_Data_Science_2022/mini_project/lightning_logs') == True:\n",
    "    !rm -rf /scratch/project_2006400/Introduction_to_Data_Science_2022/mini_project/lightning_logs\n",
    "if os.path.exists('/scratch/project_2006400/Introduction_to_Data_Science_2022/mini_project/checkpoints') == True:\n",
    "    !rm -rf /scratch/project_2006400/Introduction_to_Data_Science_2022/mini_project/checkpoints"
   ]
  },
  {
   "cell_type": "code",
   "execution_count": 44,
   "id": "a2591411",
   "metadata": {},
   "outputs": [
    {
     "data": {
      "text/plain": [
       "'/scratch/project_2006400/Introduction_to_Data_Science_2022/mini_project'"
      ]
     },
     "execution_count": 44,
     "metadata": {},
     "output_type": "execute_result"
    }
   ],
   "source": [
    "folderPath = os.path.abspath('')\n",
    "folderPath"
   ]
  },
  {
   "cell_type": "code",
   "execution_count": 45,
   "id": "9be55d69",
   "metadata": {},
   "outputs": [
    {
     "name": "stderr",
     "output_type": "stream",
     "text": [
      "GPU available: True, used: True\n",
      "TPU available: False, using: 0 TPU cores\n",
      "IPU available: False, using: 0 IPUs\n",
      "HPU available: False, using: 0 HPUs\n"
     ]
    }
   ],
   "source": [
    "steps_per_epoch=len(train_df) // BATCH_SIZE\n",
    "total_training_steps = steps_per_epoch * N_EPOCHS\n",
    "\n",
    "warmup_steps = total_training_steps // 5\n",
    "\n",
    "model = PersonabilityDetector(n_classes=len(columns), n_warmup_steps=warmup_steps, n_training_steps=total_training_steps )\n",
    "\n",
    "#To save the model\n",
    "checkpoint_callback = ModelCheckpoint(\n",
    "    dirpath=\"{}/checkpoints\".format(folderPath),\n",
    "    filename=\"best-checkpoint\",\n",
    "    save_top_k=1,\n",
    "    verbose=True,\n",
    "    monitor=\"val_loss\",\n",
    "    mode=\"min\"\n",
    ")\n",
    "\n",
    "logger = TensorBoardLogger(folderPath, name=\"lightning_logs\")\n",
    "\n",
    "early_stopping_callback = EarlyStopping(monitor='val_loss', patience=2)\n",
    "\n",
    "trainer = pl.Trainer(\n",
    "    logger=logger,\n",
    "    gpus=1,\n",
    "    callbacks=[checkpoint_callback, early_stopping_callback],\n",
    "    max_epochs=N_EPOCHS,   \n",
    "    enable_progress_bar = False\n",
    ")"
   ]
  },
  {
   "cell_type": "code",
   "execution_count": 46,
   "id": "109fb308",
   "metadata": {},
   "outputs": [],
   "source": [
    "if os.path.exists('{}/lightning_logs'.format(folderPath)) == False:\n",
    "  os.mkdir('{}/lightning_logs'.format(folderPath))"
   ]
  },
  {
   "cell_type": "code",
   "execution_count": 47,
   "id": "6798c148",
   "metadata": {},
   "outputs": [
    {
     "name": "stderr",
     "output_type": "stream",
     "text": [
      "LOCAL_RANK: 0 - CUDA_VISIBLE_DEVICES: [0]\n",
      "\n",
      "  | Name       | Type      | Params\n",
      "-----------------------------------------\n",
      "0 | bert       | BertModel | 108 M \n",
      "1 | classifier | Linear    | 12.3 K\n",
      "2 | criterion  | BCELoss   | 0     \n",
      "-----------------------------------------\n",
      "108 M     Trainable params\n",
      "0         Non-trainable params\n",
      "108 M     Total params\n",
      "433.290   Total estimated model params size (MB)\n",
      "Epoch 0, global step 434: 'val_loss' reached 0.21307 (best 0.21307), saving model to '/scratch/project_2006400/Introduction_to_Data_Science_2022/mini_project/checkpoints/best-checkpoint.ckpt' as top 1\n",
      "Epoch 1, global step 868: 'val_loss' reached 0.17035 (best 0.17035), saving model to '/scratch/project_2006400/Introduction_to_Data_Science_2022/mini_project/checkpoints/best-checkpoint.ckpt' as top 1\n",
      "Epoch 2, global step 1302: 'val_loss' reached 0.13630 (best 0.13630), saving model to '/scratch/project_2006400/Introduction_to_Data_Science_2022/mini_project/checkpoints/best-checkpoint.ckpt' as top 1\n",
      "Epoch 3, global step 1736: 'val_loss' reached 0.12629 (best 0.12629), saving model to '/scratch/project_2006400/Introduction_to_Data_Science_2022/mini_project/checkpoints/best-checkpoint.ckpt' as top 1\n",
      "Epoch 4, global step 2170: 'val_loss' reached 0.11910 (best 0.11910), saving model to '/scratch/project_2006400/Introduction_to_Data_Science_2022/mini_project/checkpoints/best-checkpoint.ckpt' as top 1\n",
      "Epoch 5, global step 2604: 'val_loss' reached 0.11667 (best 0.11667), saving model to '/scratch/project_2006400/Introduction_to_Data_Science_2022/mini_project/checkpoints/best-checkpoint.ckpt' as top 1\n",
      "Epoch 6, global step 3038: 'val_loss' was not in top 1\n",
      "Epoch 7, global step 3472: 'val_loss' was not in top 1\n"
     ]
    }
   ],
   "source": [
    "trainer.fit(model, data_module)"
   ]
  },
  {
   "cell_type": "code",
   "execution_count": 48,
   "id": "6bbd7367",
   "metadata": {},
   "outputs": [],
   "source": [
    "trained_model = PersonabilityDetector.load_from_checkpoint(\n",
    "  '/scratch/project_2006400/Introduction_to_Data_Science_2022/mini_project/checkpoints/best-checkpoint.ckpt',\n",
    "  n_classes=len(columns)\n",
    ")\n",
    "trained_model.eval()\n",
    "trained_model.freeze()"
   ]
  },
  {
   "cell_type": "code",
   "execution_count": 51,
   "id": "7f3b8b96",
   "metadata": {},
   "outputs": [
    {
     "name": "stderr",
     "output_type": "stream",
     "text": [
      "100%|██████████| 16/16 [00:00<00:00, 72.35it/s]\n"
     ]
    }
   ],
   "source": [
    "device = torch.device('cuda' if torch.cuda.is_available() else 'cpu')\n",
    "trained_model = trained_model.to(device)\n",
    "\n",
    "test_dataset = PersonabilityDataset(\n",
    "    test_df,\n",
    "    tokenizer,\n",
    "    max_token_len=MAX_TOKEN_COUNT\n",
    ")\n",
    "\n",
    "predictions = []\n",
    "\n",
    "for item in tqdm(test_dataset):\n",
    "    _, prediction = trained_model(\n",
    "        item[\"input_ids\"].unsqueeze(dim=0).to(device),\n",
    "        item[\"attention_mask\"].unsqueeze(dim=0).to(device)\n",
    "    )\n",
    "    predictions.append(prediction.flatten())\n",
    "\n",
    "predictions = torch.stack(predictions).detach().cpu()"
   ]
  },
  {
   "cell_type": "code",
   "execution_count": 75,
   "id": "1fdb41c6",
   "metadata": {},
   "outputs": [],
   "source": [
    "index_pred = []\n",
    "for i in range(len(predictions)):\n",
    "    ind = torch.argmax(predictions[i])\n",
    "    index_pred.append(ind)"
   ]
  },
  {
   "cell_type": "code",
   "execution_count": 76,
   "id": "26f7702f",
   "metadata": {},
   "outputs": [
    {
     "data": {
      "text/plain": [
       "[tensor(8),\n",
       " tensor(8),\n",
       " tensor(10),\n",
       " tensor(8),\n",
       " tensor(9),\n",
       " tensor(8),\n",
       " tensor(8),\n",
       " tensor(8),\n",
       " tensor(10),\n",
       " tensor(8),\n",
       " tensor(8),\n",
       " tensor(1),\n",
       " tensor(11),\n",
       " tensor(11),\n",
       " tensor(8),\n",
       " tensor(8)]"
      ]
     },
     "execution_count": 76,
     "metadata": {},
     "output_type": "execute_result"
    }
   ],
   "source": [
    "index_pred"
   ]
  },
  {
   "cell_type": "code",
   "execution_count": 77,
   "id": "54a59796",
   "metadata": {},
   "outputs": [
    {
     "data": {
      "text/plain": [
       "['ENFJ',\n",
       " 'ENFP',\n",
       " 'ENTJ',\n",
       " 'ENTP',\n",
       " 'ESFJ',\n",
       " 'ESFP',\n",
       " 'ESTJ',\n",
       " 'ESTP',\n",
       " 'INFJ',\n",
       " 'INFP',\n",
       " 'INTJ',\n",
       " 'INTP',\n",
       " 'ISFJ',\n",
       " 'ISFP',\n",
       " 'ISTJ',\n",
       " 'ISTP']"
      ]
     },
     "execution_count": 77,
     "metadata": {},
     "output_type": "execute_result"
    }
   ],
   "source": [
    "columns "
   ]
  },
  {
   "cell_type": "code",
   "execution_count": 78,
   "id": "e10e713f",
   "metadata": {},
   "outputs": [
    {
     "data": {
      "text/plain": [
       "['INFJ',\n",
       " 'INFJ',\n",
       " 'INTJ',\n",
       " 'INFJ',\n",
       " 'INFP',\n",
       " 'INFJ',\n",
       " 'INFJ',\n",
       " 'INFJ',\n",
       " 'INTJ',\n",
       " 'INFJ',\n",
       " 'INFJ',\n",
       " 'ENFP',\n",
       " 'INTP',\n",
       " 'INTP',\n",
       " 'INFJ',\n",
       " 'INFJ']"
      ]
     },
     "execution_count": 78,
     "metadata": {},
     "output_type": "execute_result"
    }
   ],
   "source": [
    "test_pred = [columns[8], columns[8], columns[10], columns[8], columns[9], columns[8],\n",
    "             columns[8], columns[8],columns[10],columns[8], columns[8], columns[1],\n",
    "             columns[11], columns[11], columns[8], columns[8]]\n",
    "test_pred"
   ]
  },
  {
   "cell_type": "code",
   "execution_count": 88,
   "id": "3d8f9a2f",
   "metadata": {},
   "outputs": [],
   "source": [
    "test_labels.append('INTJ')\n",
    "test_labels.append('INTP')\n",
    "test_labels.append('INTP')"
   ]
  },
  {
   "cell_type": "code",
   "execution_count": 89,
   "id": "f003121b",
   "metadata": {},
   "outputs": [],
   "source": [
    "pred = pd.DataFrame(test_labels, columns = ['test_labels'])"
   ]
  },
  {
   "cell_type": "code",
   "execution_count": 90,
   "id": "4e2cc2eb",
   "metadata": {},
   "outputs": [],
   "source": [
    "pred['test_pred'] = test_pred"
   ]
  },
  {
   "cell_type": "code",
   "execution_count": 91,
   "id": "5e9b0527",
   "metadata": {},
   "outputs": [
    {
     "data": {
      "text/html": [
       "<div>\n",
       "<style scoped>\n",
       "    .dataframe tbody tr th:only-of-type {\n",
       "        vertical-align: middle;\n",
       "    }\n",
       "\n",
       "    .dataframe tbody tr th {\n",
       "        vertical-align: top;\n",
       "    }\n",
       "\n",
       "    .dataframe thead th {\n",
       "        text-align: right;\n",
       "    }\n",
       "</style>\n",
       "<table border=\"1\" class=\"dataframe\">\n",
       "  <thead>\n",
       "    <tr style=\"text-align: right;\">\n",
       "      <th></th>\n",
       "      <th>test_labels</th>\n",
       "      <th>test_pred</th>\n",
       "    </tr>\n",
       "  </thead>\n",
       "  <tbody>\n",
       "    <tr>\n",
       "      <th>0</th>\n",
       "      <td>ENFP</td>\n",
       "      <td>INFJ</td>\n",
       "    </tr>\n",
       "    <tr>\n",
       "      <th>1</th>\n",
       "      <td>ENFP</td>\n",
       "      <td>INFJ</td>\n",
       "    </tr>\n",
       "    <tr>\n",
       "      <th>2</th>\n",
       "      <td>ENFP</td>\n",
       "      <td>INTJ</td>\n",
       "    </tr>\n",
       "    <tr>\n",
       "      <th>3</th>\n",
       "      <td>ESFP</td>\n",
       "      <td>INFJ</td>\n",
       "    </tr>\n",
       "    <tr>\n",
       "      <th>4</th>\n",
       "      <td>ENFP</td>\n",
       "      <td>INFP</td>\n",
       "    </tr>\n",
       "    <tr>\n",
       "      <th>5</th>\n",
       "      <td>ENTP</td>\n",
       "      <td>INFJ</td>\n",
       "    </tr>\n",
       "    <tr>\n",
       "      <th>6</th>\n",
       "      <td>ESFJ</td>\n",
       "      <td>INFJ</td>\n",
       "    </tr>\n",
       "    <tr>\n",
       "      <th>7</th>\n",
       "      <td>INFP</td>\n",
       "      <td>INFJ</td>\n",
       "    </tr>\n",
       "    <tr>\n",
       "      <th>8</th>\n",
       "      <td>ESFP</td>\n",
       "      <td>INTJ</td>\n",
       "    </tr>\n",
       "    <tr>\n",
       "      <th>9</th>\n",
       "      <td>ISFJ</td>\n",
       "      <td>INFJ</td>\n",
       "    </tr>\n",
       "    <tr>\n",
       "      <th>10</th>\n",
       "      <td>ESFP</td>\n",
       "      <td>INFJ</td>\n",
       "    </tr>\n",
       "    <tr>\n",
       "      <th>11</th>\n",
       "      <td>ENFP</td>\n",
       "      <td>ENFP</td>\n",
       "    </tr>\n",
       "    <tr>\n",
       "      <th>12</th>\n",
       "      <td>ISTJ</td>\n",
       "      <td>INTP</td>\n",
       "    </tr>\n",
       "    <tr>\n",
       "      <th>13</th>\n",
       "      <td>INTJ</td>\n",
       "      <td>INTP</td>\n",
       "    </tr>\n",
       "    <tr>\n",
       "      <th>14</th>\n",
       "      <td>INTP</td>\n",
       "      <td>INFJ</td>\n",
       "    </tr>\n",
       "    <tr>\n",
       "      <th>15</th>\n",
       "      <td>INTP</td>\n",
       "      <td>INFJ</td>\n",
       "    </tr>\n",
       "  </tbody>\n",
       "</table>\n",
       "</div>"
      ],
      "text/plain": [
       "   test_labels test_pred\n",
       "0         ENFP      INFJ\n",
       "1         ENFP      INFJ\n",
       "2         ENFP      INTJ\n",
       "3         ESFP      INFJ\n",
       "4         ENFP      INFP\n",
       "5         ENTP      INFJ\n",
       "6         ESFJ      INFJ\n",
       "7         INFP      INFJ\n",
       "8         ESFP      INTJ\n",
       "9         ISFJ      INFJ\n",
       "10        ESFP      INFJ\n",
       "11        ENFP      ENFP\n",
       "12        ISTJ      INTP\n",
       "13        INTJ      INTP\n",
       "14        INTP      INFJ\n",
       "15        INTP      INFJ"
      ]
     },
     "execution_count": 91,
     "metadata": {},
     "output_type": "execute_result"
    }
   ],
   "source": [
    "pred"
   ]
  }
 ],
 "metadata": {
  "kernelspec": {
   "display_name": "Python 3 (ipykernel)",
   "language": "python",
   "name": "python3"
  },
  "language_info": {
   "codemirror_mode": {
    "name": "ipython",
    "version": 3
   },
   "file_extension": ".py",
   "mimetype": "text/x-python",
   "name": "python",
   "nbconvert_exporter": "python",
   "pygments_lexer": "ipython3",
   "version": "3.9.7"
  }
 },
 "nbformat": 4,
 "nbformat_minor": 5
}
